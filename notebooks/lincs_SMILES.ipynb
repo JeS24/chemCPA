{
 "cells": [
  {
   "cell_type": "code",
   "execution_count": 5,
   "source": [
    "import os \n",
    "import scanpy as sc\n",
    "import matplotlib.pyplot as plt\n",
    "import numpy as np \n",
    "import pandas as pd\n",
    "sc.set_figure_params(dpi=80, frameon=False)\n",
    "sc.logging.print_header()\n",
    "os.getcwd()"
   ],
   "outputs": [],
   "metadata": {}
  },
  {
   "cell_type": "code",
   "execution_count": null,
   "source": [
    "%load_ext autoreload\n",
    "%autoreload 2"
   ],
   "outputs": [
    {
     "output_type": "stream",
     "name": "stdout",
     "text": [
      "The autoreload extension is already loaded. To reload it, use:\n",
      "  %reload_ext autoreload\n"
     ]
    }
   ],
   "metadata": {}
  },
  {
   "cell_type": "markdown",
   "source": [
    "### Loading LINCS and reference data"
   ],
   "metadata": {}
  },
  {
   "cell_type": "code",
   "execution_count": null,
   "source": [
    "full = False\n",
    "if full:\n",
    "    adata = sc.read('../datasets/lincs_full.h5ad')\n",
    "    adata_out = '../datasets/lincs_full_smiles.h5ad' \n",
    "else: \n",
    "    adata = sc.read('../datasets/lincs.h5ad')\n",
    "    adata_out = '../datasets/lincs_smiles.h5ad'  \n"
   ],
   "outputs": [],
   "metadata": {}
  },
  {
   "cell_type": "markdown",
   "source": [
    "Checking number of drugs for LINCS"
   ],
   "metadata": {}
  },
  {
   "cell_type": "code",
   "execution_count": null,
   "source": [
    "pert_id_unique = pd.Series(np.unique(adata.obs.pert_id))\n",
    "print(f\"# of unique perturbations: {len(pert_id_unique)}\")"
   ],
   "outputs": [
    {
     "output_type": "stream",
     "name": "stdout",
     "text": [
      "# of unique perturbations: 1120\n"
     ]
    }
   ],
   "metadata": {}
  },
  {
   "cell_type": "markdown",
   "source": [
    "Loading reference dataframe and restricting to `'pert_id'` and `'canonical_smiles'`"
   ],
   "metadata": {}
  },
  {
   "cell_type": "code",
   "execution_count": null,
   "source": [
    "reference_df = pd.read_csv('../datasets/GSE92742_Broad_LINCS_pert_info.txt', delimiter = \"\\t\")\n",
    "reference_df = reference_df.loc[reference_df.pert_id.isin(pert_id_unique), ['pert_id', 'canonical_smiles']]\n",
    "reference_df.canonical_smiles.value_counts()"
   ],
   "outputs": [
    {
     "output_type": "execute_result",
     "data": {
      "text/plain": [
       "-666                                                                                         6\n",
       "CS(=O)(=O)CCNCc1ccc(o1)-c1ccc2ncnc(Nc3ccc(OCc4cccc(F)c4)c(Cl)c3)c2c1                         2\n",
       "restricted                                                                                   2\n",
       "CC(/C=C/C1=C(C)CCCC1(C)C)=C\\C=C\\C(C)=C/C(O)=O                                                1\n",
       "CC(C)NC(=O)N(C)C[C@@H]1OCCCC[C@H](C)Oc2ccc(NC(=O)C3CCCCC3)cc2C(=O)N(C[C@@H]1C)[C@@H](C)CO    1\n",
       "                                                                                            ..\n",
       "CCN(CC)CCCCNc1ncc2cc(-c3cc(OC)cc(OC)c3)c(NC(=O)NC(C)(C)C)nc2n1                               1\n",
       "Cc1ccc(C)n1-c1cccc(c1)-c1nn[nH]n1                                                            1\n",
       "CCOC(=O)C1=C(C)N=c2s\\c(=C/c3cc(Br)c(O)c(Br)c3)c(=O)n2C1c1ccc2OCOc2c1                         1\n",
       "COc1ccccc1NC(=O)N1CCCCN2[C@@H](CO)[C@H]([C@H]2C1)c1ccc(cc1)-c1cccc(c1)C#N                    1\n",
       "Clc1nssc1=Nc2nncs2                                                                           1\n",
       "Name: canonical_smiles, Length: 981, dtype: int64"
      ]
     },
     "metadata": {},
     "execution_count": 9
    }
   ],
   "metadata": {}
  },
  {
   "cell_type": "code",
   "execution_count": null,
   "source": [
    "cond = ~pert_id_unique.isin(reference_df.pert_id)\n",
    "print(f\"From {len(pert_id_unique)} total drugs, {cond.sum()} were not part of the reference dataframe.\")"
   ],
   "outputs": [
    {
     "output_type": "stream",
     "name": "stdout",
     "text": [
      "From 1120 total drugs, 132 were not part of the reference dataframe.\n"
     ]
    }
   ],
   "metadata": {}
  },
  {
   "cell_type": "markdown",
   "source": [
    "Adding `'canoncical_smiles'` column to `adata.obs` via `pd.merge`"
   ],
   "metadata": {}
  },
  {
   "cell_type": "code",
   "execution_count": null,
   "source": [
    "adata.obs = adata.obs.reset_index().merge(reference_df, how=\"left\").set_index('index')"
   ],
   "outputs": [],
   "metadata": {}
  },
  {
   "cell_type": "markdown",
   "source": [
    "Removing invalid SMILES strings "
   ],
   "metadata": {}
  },
  {
   "cell_type": "code",
   "execution_count": null,
   "source": [
    "adata.obs.canonical_smiles = adata.obs.canonical_smiles.astype('str')\n",
    "invalid_smiles = adata.obs.canonical_smiles.isin(['-666', 'restricted', 'nan'])\n",
    "print(f'Among {len(adata)} observations, {100*invalid_smiles.sum()/len(adata):.2f}% ({invalid_smiles.sum()}) do not have a valid SMILES string')\n",
    "adata = adata[~invalid_smiles]"
   ],
   "outputs": [
    {
     "output_type": "stream",
     "name": "stdout",
     "text": [
      "Among 199620 observations, 11.54% (23033) do not have a valid SMILES string\n"
     ]
    }
   ],
   "metadata": {}
  },
  {
   "cell_type": "markdown",
   "source": [
    "Remove invalid `'pert_dose'` value: `-666`"
   ],
   "metadata": {}
  },
  {
   "cell_type": "code",
   "execution_count": null,
   "source": [
    "cond = adata.obs.pert_dose.isin([-666])\n",
    "adata = adata[~cond]\n",
    "print(f\"A total of {cond.sum()} observations have invalid dose values\")"
   ],
   "outputs": [
    {
     "output_type": "stream",
     "name": "stdout",
     "text": [
      "A total of 0 observations have invalid dose values\n"
     ]
    }
   ],
   "metadata": {}
  },
  {
   "cell_type": "code",
   "execution_count": null,
   "source": [
    "drugs_validation = adata.obs.canonical_smiles.value_counts() < 5\n",
    "valid_drugs = drugs_validation.index[~drugs_validation]\n",
    "cond = adata.obs.canonical_smiles.isin(valid_drugs)\n",
    "print(f\"A total of {(~cond).sum()} observation belong to drugs which do not have enough replicates\")\n",
    "adata = adata[cond]"
   ],
   "outputs": [
    {
     "output_type": "stream",
     "name": "stdout",
     "text": [
      "A total of 0 observation belong to drugs which do not have enough replicates\n"
     ]
    }
   ],
   "metadata": {}
  },
  {
   "cell_type": "markdown",
   "source": [
    "Checking that SMILES are valid according to `rdkit` "
   ],
   "metadata": {}
  },
  {
   "cell_type": "code",
   "execution_count": null,
   "source": [],
   "outputs": [],
   "metadata": {}
  },
  {
   "cell_type": "code",
   "execution_count": null,
   "source": [
    "adata.write(adata_out)\n",
    "adata"
   ],
   "outputs": [],
   "metadata": {}
  },
  {
   "cell_type": "code",
   "execution_count": null,
   "source": [
    "adata.write(adata_out)\n",
    "adata"
   ],
   "outputs": [],
   "metadata": {}
  },
  {
   "cell_type": "code",
   "execution_count": null,
   "source": [],
   "outputs": [],
   "metadata": {}
  }
 ],
 "metadata": {
  "kernelspec": {
   "display_name": "Python 3",
   "language": "python",
   "name": "python3"
  },
  "language_info": {
   "codemirror_mode": {
    "name": "ipython",
    "version": 3
   },
   "file_extension": ".py",
   "mimetype": "text/x-python",
   "name": "python",
   "nbconvert_exporter": "python",
   "pygments_lexer": "ipython3",
   "version": "3.8.8"
  }
 },
 "nbformat": 4,
 "nbformat_minor": 5
}