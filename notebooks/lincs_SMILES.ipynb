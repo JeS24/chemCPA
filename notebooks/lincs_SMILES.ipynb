{
 "cells": [
  {
   "cell_type": "code",
   "execution_count": 1,
   "source": [
    "import os \n",
    "import scanpy as sc\n",
    "import matplotlib.pyplot as plt\n",
    "import numpy as np \n",
    "import pandas as pd\n",
    "sc.set_figure_params(dpi=80, frameon=False)\n",
    "sc.logging.print_header()\n",
    "os.getcwd()"
   ],
   "outputs": [
    {
     "output_type": "stream",
     "name": "stdout",
     "text": [
      "scanpy==1.8.0.dev78+gc488909a anndata==0.7.6 umap==0.5.1 numpy==1.19.2 scipy==1.6.2 pandas==1.2.4 scikit-learn==0.24.1 statsmodels==0.12.2 python-igraph==0.9.1 louvain==0.7.0\n"
     ]
    },
    {
     "output_type": "execute_result",
     "data": {
      "text/plain": [
       "'/home/icb/leon.hetzel/git/CPA_graphs/notebooks'"
      ]
     },
     "metadata": {},
     "execution_count": 1
    }
   ],
   "metadata": {}
  },
  {
   "cell_type": "code",
   "execution_count": 2,
   "source": [
    "%load_ext autoreload\n",
    "%autoreload 2"
   ],
   "outputs": [],
   "metadata": {}
  },
  {
   "cell_type": "markdown",
   "source": [
    "### Loading LINCS and reference data"
   ],
   "metadata": {}
  },
  {
   "cell_type": "code",
   "execution_count": 3,
   "source": [
    "full = False\n",
    "if full:\n",
    "    adata = sc.read('../datasets/lincs_full.h5ad')\n",
    "    adata_out = '../datasets/lincs_full_smiles.h5ad' \n",
    "else: \n",
    "    adata = sc.read('../datasets/lincs.h5ad')\n",
    "    adata_out = '../datasets/lincs_smiles.h5ad'  \n"
   ],
   "outputs": [],
   "metadata": {}
  },
  {
   "cell_type": "markdown",
   "source": [
    "Checking number of drugs for LINCS"
   ],
   "metadata": {}
  },
  {
   "cell_type": "code",
   "execution_count": 4,
   "source": [
    "pert_id_unique = pd.Series(np.unique(adata.obs.pert_id))\n",
    "print(f\"# of unique perturbations: {len(pert_id_unique)}\")"
   ],
   "outputs": [
    {
     "output_type": "stream",
     "name": "stdout",
     "text": [
      "# of unique perturbations: 1120\n"
     ]
    }
   ],
   "metadata": {}
  },
  {
   "cell_type": "markdown",
   "source": [
    "Loading reference dataframe and restricting to `'pert_id'` and `'canonical_smiles'`"
   ],
   "metadata": {}
  },
  {
   "cell_type": "code",
   "execution_count": 5,
   "source": [
    "reference_df = pd.read_csv('../datasets/GSE92742_Broad_LINCS_pert_info.txt', delimiter = \"\\t\")\n",
    "reference_df = reference_df.loc[reference_df.pert_id.isin(pert_id_unique), ['pert_id', 'canonical_smiles']]\n",
    "reference_df.canonical_smiles.value_counts()"
   ],
   "outputs": [
    {
     "output_type": "execute_result",
     "data": {
      "text/plain": [
       "-666                                                                                                                                                                             6\n",
       "restricted                                                                                                                                                                       2\n",
       "CS(=O)(=O)CCNCc1ccc(o1)-c1ccc2ncnc(Nc3ccc(OCc4cccc(F)c4)c(Cl)c3)c2c1                                                                                                             2\n",
       "Oc1ccc2c(c1)oc3c2c(=O)oc4cc(O)ccc34                                                                                                                                              1\n",
       "CCOC(=O)CCSc1nnc(S)s1                                                                                                                                                            1\n",
       "                                                                                                                                                                                ..\n",
       "OC[C@H]1[C@@H]([C@H]2CN(CC(=O)N12)C(=O)c1cnccn1)c1ccc(\\C=C\\c2ccccc2)cc1                                                                                                          1\n",
       "CC(C)C[C@@H]1NC(=O)[C@@H]2C[C@@H]([C@@H](N2C1=O)c3ccc(O)cc3)C(=O)OCCOc4ccc(cc4)[C@@H]5N6[C@H]([C@H](C(=O)OCC=C)[C@@]57C(=O)Nc8ccccc87)C(=O)O[C@H]([C@H]6c9ccccc9)c%10ccccc%10    1\n",
       "Nc1nc(N)nc(n1)-c1cc(Cl)ccc1Cl                                                                                                                                                    1\n",
       "C[C@@H](CO)N1C[C@@H](C)[C@@H](CN(C)Cc2ccc(cc2)C(F)(F)F)OCCCC[C@@H](C)Oc3ccc(NS(=O)(=O)c4c(C)noc4C)cc3C1=O                                                                        1\n",
       "CN1CC[C@@H]([C@H](O)C1)c1c(O)cc(O)c2c1oc(cc2=O)-c1ccccc1Cl                                                                                                                       1\n",
       "Name: canonical_smiles, Length: 981, dtype: int64"
      ]
     },
     "metadata": {},
     "execution_count": 5
    }
   ],
   "metadata": {}
  },
  {
   "cell_type": "code",
   "execution_count": 6,
   "source": [
    "cond = ~pert_id_unique.isin(reference_df.pert_id)\n",
    "print(f\"From {len(pert_id_unique)} total drugs, {cond.sum()} were not part of the reference dataframe.\")"
   ],
   "outputs": [
    {
     "output_type": "stream",
     "name": "stdout",
     "text": [
      "From 1120 total drugs, 132 were not part of the reference dataframe.\n"
     ]
    }
   ],
   "metadata": {}
  },
  {
   "cell_type": "markdown",
   "source": [
    "Adding `'canoncical_smiles'` column to `adata.obs` via `pd.merge`"
   ],
   "metadata": {}
  },
  {
   "cell_type": "code",
   "execution_count": 7,
   "source": [
    "adata.obs = adata.obs.reset_index().merge(reference_df, how=\"left\").set_index('index')"
   ],
   "outputs": [],
   "metadata": {}
  },
  {
   "cell_type": "markdown",
   "source": [
    "Removing invalid SMILES strings "
   ],
   "metadata": {}
  },
  {
   "cell_type": "code",
   "execution_count": 8,
   "source": [
    "adata.obs.canonical_smiles = adata.obs.canonical_smiles.astype('str')\n",
    "invalid_smiles = adata.obs.canonical_smiles.isin(['-666', 'restricted', 'nan'])\n",
    "print(f'Among {len(adata)} observations, {100*invalid_smiles.sum()/len(adata):.2f}% ({invalid_smiles.sum()}) do not have a valid SMILES string')\n",
    "adata = adata[~invalid_smiles]"
   ],
   "outputs": [
    {
     "output_type": "stream",
     "name": "stdout",
     "text": [
      "Among 199620 observations, 11.54% (23033) do not have a valid SMILES string\n"
     ]
    }
   ],
   "metadata": {}
  },
  {
   "cell_type": "markdown",
   "source": [
    "Remove invalid `'pert_dose'` value: `-666`"
   ],
   "metadata": {}
  },
  {
   "cell_type": "code",
   "execution_count": 9,
   "source": [
    "cond = adata.obs.pert_dose.isin([-666])\n",
    "adata = adata[~cond]\n",
    "print(f\"A total of {cond.sum()} observations have invalid dose values\")"
   ],
   "outputs": [
    {
     "output_type": "stream",
     "name": "stdout",
     "text": [
      "A total of 0 observations have invalid dose values\n"
     ]
    }
   ],
   "metadata": {}
  },
  {
   "cell_type": "code",
   "execution_count": 10,
   "source": [
    "drugs_validation = adata.obs.canonical_smiles.value_counts() < 6\n",
    "valid_drugs = drugs_validation.index[~drugs_validation]\n",
    "cond = adata.obs.canonical_smiles.isin(valid_drugs)\n",
    "print(f\"A total of {(~cond).sum()} observation belong to drugs which do not have enough replicates\")\n",
    "adata = adata[cond]"
   ],
   "outputs": [
    {
     "output_type": "stream",
     "name": "stdout",
     "text": [
      "A total of 0 observation belong to drugs which do not have enough replicates\n"
     ]
    }
   ],
   "metadata": {}
  },
  {
   "cell_type": "markdown",
   "source": [
    "Checking that SMILES are valid according to `rdkit` "
   ],
   "metadata": {}
  },
  {
   "cell_type": "code",
   "execution_count": 11,
   "source": [
    "from rdkit import Chem\n",
    "\n",
    "def check_smiles(smiles):\n",
    "    m = Chem.MolFromSmiles(smiles,sanitize=False)\n",
    "    if m is None:\n",
    "        print('invalid SMILES')\n",
    "        return False\n",
    "    else:\n",
    "        try:\n",
    "            Chem.SanitizeMol(m)\n",
    "        except:\n",
    "            print('invalid chemistry')\n",
    "            return False\n",
    "    return True\n",
    "\n",
    "def remove_invalid_smiles(dataframe, smiles_key: str = 'SMILES', return_condition: bool = False):\n",
    "    unique_drugs = pd.Series(np.unique(dataframe[smiles_key]))\n",
    "    valid_drugs = unique_drugs.apply(check_smiles)\n",
    "    print(f\"A total of {(~valid_drugs).sum()} have invalid SMILES strings\")\n",
    "    _validation_map = dict(zip(unique_drugs, valid_drugs))\n",
    "    cond = dataframe[smiles_key].apply(lambda x: _validation_map[x])\n",
    "    if return_condition: \n",
    "        return cond\n",
    "    dataframe = dataframe[cond].copy()\n",
    "    return dataframe\n",
    "\n",
    "adata"
   ],
   "outputs": [
    {
     "output_type": "execute_result",
     "data": {
      "text/plain": [
       "View of AnnData object with n_obs × n_vars = 176587 × 978\n",
       "    obs: 'cell_id', 'det_plate', 'det_well', 'lincs_phase', 'pert_dose', 'pert_dose_unit', 'pert_id', 'pert_iname', 'pert_mfc_id', 'pert_time', 'pert_time_unit', 'pert_type', 'rna_plate', 'rna_well', 'batch', 'condition', 'cell_type', 'dose_val', 'cov_drug_dose_name', 'control', 'split', 'canonical_smiles'\n",
       "    var: 'pr_gene_title', 'pr_is_lm', 'pr_is_bing'\n",
       "    uns: 'rank_genes_groups_cov'"
      ]
     },
     "metadata": {},
     "execution_count": 11
    }
   ],
   "metadata": {}
  },
  {
   "cell_type": "code",
   "execution_count": 12,
   "source": [
    "cond = remove_invalid_smiles(adata.obs, smiles_key='canonical_smiles', return_condition=True)\n",
    "adata = adata[cond]\n",
    "adata "
   ],
   "outputs": [
    {
     "output_type": "stream",
     "name": "stdout",
     "text": [
      "A total of 0 have invalid SMILES strings\n"
     ]
    },
    {
     "output_type": "execute_result",
     "data": {
      "text/plain": [
       "View of AnnData object with n_obs × n_vars = 176587 × 978\n",
       "    obs: 'cell_id', 'det_plate', 'det_well', 'lincs_phase', 'pert_dose', 'pert_dose_unit', 'pert_id', 'pert_iname', 'pert_mfc_id', 'pert_time', 'pert_time_unit', 'pert_type', 'rna_plate', 'rna_well', 'batch', 'condition', 'cell_type', 'dose_val', 'cov_drug_dose_name', 'control', 'split', 'canonical_smiles'\n",
       "    var: 'pr_gene_title', 'pr_is_lm', 'pr_is_bing'\n",
       "    uns: 'rank_genes_groups_cov'"
      ]
     },
     "metadata": {},
     "execution_count": 12
    }
   ],
   "metadata": {}
  },
  {
   "cell_type": "code",
   "execution_count": 13,
   "source": [
    "adata.write(adata_out)\n",
    "adata"
   ],
   "outputs": [
    {
     "output_type": "stream",
     "name": "stderr",
     "text": [
      "/home/icb/leon.hetzel/miniconda3/envs/py38/lib/python3.8/site-packages/anndata/_core/anndata.py:1228: ImplicitModificationWarning: Initializing view as actual.\n",
      "  warnings.warn(\n",
      "Trying to set attribute `.obs` of view, copying.\n",
      "... storing 'pert_id' as categorical\n",
      "Trying to set attribute `.obs` of view, copying.\n",
      "... storing 'canonical_smiles' as categorical\n"
     ]
    },
    {
     "output_type": "execute_result",
     "data": {
      "text/plain": [
       "AnnData object with n_obs × n_vars = 176587 × 978\n",
       "    obs: 'cell_id', 'det_plate', 'det_well', 'lincs_phase', 'pert_dose', 'pert_dose_unit', 'pert_id', 'pert_iname', 'pert_mfc_id', 'pert_time', 'pert_time_unit', 'pert_type', 'rna_plate', 'rna_well', 'batch', 'condition', 'cell_type', 'dose_val', 'cov_drug_dose_name', 'control', 'split', 'canonical_smiles'\n",
       "    var: 'pr_gene_title', 'pr_is_lm', 'pr_is_bing'\n",
       "    uns: 'rank_genes_groups_cov'"
      ]
     },
     "metadata": {},
     "execution_count": 13
    }
   ],
   "metadata": {}
  },
  {
   "cell_type": "code",
   "execution_count": 14,
   "source": [
    "print('Finished')"
   ],
   "outputs": [
    {
     "output_type": "stream",
     "name": "stdout",
     "text": [
      "Finished\n"
     ]
    }
   ],
   "metadata": {}
  },
  {
   "cell_type": "markdown",
   "source": [
    "### Add additional drugbank info to `adata.obs`"
   ],
   "metadata": {}
  },
  {
   "cell_type": "code",
   "execution_count": null,
   "source": [
    "from os.path import exists\n",
    "\n",
    "drugbank_path = '../datasets/drug_bank/drugbank_all.csv'\n",
    "if exists(drugbank_path): \n",
    "    drugbank_df = pd.read_csv(drugbank_path)\n",
    "else: \n",
    "    print(f'Invalid path: {drugbank_path}')"
   ],
   "outputs": [],
   "metadata": {}
  },
  {
   "cell_type": "code",
   "execution_count": null,
   "source": [
    "from rdkit.Chem import CanonSmiles\n",
    "\n",
    "drugs_canonical = pd.Series(np.unique(adata.obs.canonical_smiles)).apply(CanonSmiles)\n",
    "db_canonical_smiles = drugbank_df.SMILES.apply(CanonSmiles)\n",
    "n_overlap = drugs_canonical.isin(db_canonical_smiles).sum()\n",
    "print(f'From a total of {len(drugs_canonical)}, {100*n_overlap/len(drugs_canonical):.2f}% ({n_overlap}) is also available in drugbank.')"
   ],
   "outputs": [],
   "metadata": {}
  },
  {
   "cell_type": "code",
   "execution_count": null,
   "source": [
    "cond = db_canonical_smiles.isin(drugs_canonical)\n",
    "drugbank_df.loc[cond, ['ATC_level_1']].value_counts()"
   ],
   "outputs": [],
   "metadata": {}
  },
  {
   "cell_type": "code",
   "execution_count": 15,
   "source": [
    "adata.obs"
   ],
   "outputs": [
    {
     "output_type": "execute_result",
     "data": {
      "text/plain": [
       "                                 cell_id                 det_plate det_well  \\\n",
       "index                                                                         \n",
       "REP.A001_A375_24H_X1_B22:B13-2-0    A375  REP.A001_A375_24H_X1_B22      B13   \n",
       "REP.A001_A375_24H_X1_B22:B14-2-0    A375  REP.A001_A375_24H_X1_B22      B14   \n",
       "REP.A001_A375_24H_X1_B22:B15-2-0    A375  REP.A001_A375_24H_X1_B22      B15   \n",
       "REP.A001_A375_24H_X1_B22:B16-2-0    A375  REP.A001_A375_24H_X1_B22      B16   \n",
       "REP.A001_A375_24H_X1_B22:B17-2-0    A375  REP.A001_A375_24H_X1_B22      B17   \n",
       "...                                  ...                       ...      ...   \n",
       "PCLB003_PC3_24H_X3_B13:A04-1-1       PC3                       nan      nan   \n",
       "PCLB003_PC3_24H_X3_B13:A05-1-1       PC3                       nan      nan   \n",
       "PCLB003_PC3_24H_X3_B13:A06-1-1       PC3                       nan      nan   \n",
       "PCLB003_PC3_24H_X3_B13:B04-1-1       PC3                       nan      nan   \n",
       "PCLB003_PC3_24H_X3_B13:B05-1-1       PC3                       nan      nan   \n",
       "\n",
       "                                 lincs_phase  pert_dose pert_dose_unit  \\\n",
       "index                                                                    \n",
       "REP.A001_A375_24H_X1_B22:B13-2-0           2  10.000000             um   \n",
       "REP.A001_A375_24H_X1_B22:B14-2-0           2   3.333330             um   \n",
       "REP.A001_A375_24H_X1_B22:B15-2-0           2   1.111110             um   \n",
       "REP.A001_A375_24H_X1_B22:B16-2-0           2   0.370370             um   \n",
       "REP.A001_A375_24H_X1_B22:B17-2-0           2   0.123457             um   \n",
       "...                                      ...        ...            ...   \n",
       "PCLB003_PC3_24H_X3_B13:A04-1-1             1   1.000000           -666   \n",
       "PCLB003_PC3_24H_X3_B13:A05-1-1             1   1.000000           -666   \n",
       "PCLB003_PC3_24H_X3_B13:A06-1-1             1   1.000000           -666   \n",
       "PCLB003_PC3_24H_X3_B13:B04-1-1             1   1.000000           -666   \n",
       "PCLB003_PC3_24H_X3_B13:B05-1-1             1   1.000000           -666   \n",
       "\n",
       "                                        pert_id         pert_iname  \\\n",
       "index                                                                \n",
       "REP.A001_A375_24H_X1_B22:B13-2-0  BRD-A25234499  aminoglutethimide   \n",
       "REP.A001_A375_24H_X1_B22:B14-2-0  BRD-A25234499  aminoglutethimide   \n",
       "REP.A001_A375_24H_X1_B22:B15-2-0  BRD-A25234499  aminoglutethimide   \n",
       "REP.A001_A375_24H_X1_B22:B16-2-0  BRD-A25234499  aminoglutethimide   \n",
       "REP.A001_A375_24H_X1_B22:B17-2-0  BRD-A25234499  aminoglutethimide   \n",
       "...                                         ...                ...   \n",
       "PCLB003_PC3_24H_X3_B13:A04-1-1             DMSO               DMSO   \n",
       "PCLB003_PC3_24H_X3_B13:A05-1-1             DMSO               DMSO   \n",
       "PCLB003_PC3_24H_X3_B13:A06-1-1             DMSO               DMSO   \n",
       "PCLB003_PC3_24H_X3_B13:B04-1-1             DMSO               DMSO   \n",
       "PCLB003_PC3_24H_X3_B13:B05-1-1             DMSO               DMSO   \n",
       "\n",
       "                                             pert_mfc_id  pert_time  ...  \\\n",
       "index                                                                ...   \n",
       "REP.A001_A375_24H_X1_B22:B13-2-0  BRD-A25234499-001-18-3       24.0  ...   \n",
       "REP.A001_A375_24H_X1_B22:B14-2-0  BRD-A25234499-001-18-3       24.0  ...   \n",
       "REP.A001_A375_24H_X1_B22:B15-2-0  BRD-A25234499-001-18-3       24.0  ...   \n",
       "REP.A001_A375_24H_X1_B22:B16-2-0  BRD-A25234499-001-18-3       24.0  ...   \n",
       "REP.A001_A375_24H_X1_B22:B17-2-0  BRD-A25234499-001-18-3       24.0  ...   \n",
       "...                                                  ...        ...  ...   \n",
       "PCLB003_PC3_24H_X3_B13:A04-1-1                       nan       24.0  ...   \n",
       "PCLB003_PC3_24H_X3_B13:A05-1-1                       nan       24.0  ...   \n",
       "PCLB003_PC3_24H_X3_B13:A06-1-1                       nan       24.0  ...   \n",
       "PCLB003_PC3_24H_X3_B13:B04-1-1                       nan       24.0  ...   \n",
       "PCLB003_PC3_24H_X3_B13:B05-1-1                       nan       24.0  ...   \n",
       "\n",
       "                                           rna_plate rna_well batch  \\\n",
       "index                                                                 \n",
       "REP.A001_A375_24H_X1_B22:B13-2-0                 nan      nan     0   \n",
       "REP.A001_A375_24H_X1_B22:B14-2-0                 nan      nan     0   \n",
       "REP.A001_A375_24H_X1_B22:B15-2-0                 nan      nan     0   \n",
       "REP.A001_A375_24H_X1_B22:B16-2-0                 nan      nan     0   \n",
       "REP.A001_A375_24H_X1_B22:B17-2-0                 nan      nan     0   \n",
       "...                                              ...      ...   ...   \n",
       "PCLB003_PC3_24H_X3_B13:A04-1-1    PCLB003_PC3_24H_X3      A04     1   \n",
       "PCLB003_PC3_24H_X3_B13:A05-1-1    PCLB003_PC3_24H_X3      A05     1   \n",
       "PCLB003_PC3_24H_X3_B13:A06-1-1    PCLB003_PC3_24H_X3      A06     1   \n",
       "PCLB003_PC3_24H_X3_B13:B04-1-1    PCLB003_PC3_24H_X3      B04     1   \n",
       "PCLB003_PC3_24H_X3_B13:B05-1-1    PCLB003_PC3_24H_X3      B05     1   \n",
       "\n",
       "                                          condition cell_type   dose_val  \\\n",
       "index                                                                      \n",
       "REP.A001_A375_24H_X1_B22:B13-2-0  aminoglutethimide      A375  10.000000   \n",
       "REP.A001_A375_24H_X1_B22:B14-2-0  aminoglutethimide      A375   3.333330   \n",
       "REP.A001_A375_24H_X1_B22:B15-2-0  aminoglutethimide      A375   1.111110   \n",
       "REP.A001_A375_24H_X1_B22:B16-2-0  aminoglutethimide      A375   0.370370   \n",
       "REP.A001_A375_24H_X1_B22:B17-2-0  aminoglutethimide      A375   0.123457   \n",
       "...                                             ...       ...        ...   \n",
       "PCLB003_PC3_24H_X3_B13:A04-1-1                 DMSO       PC3   1.000000   \n",
       "PCLB003_PC3_24H_X3_B13:A05-1-1                 DMSO       PC3   1.000000   \n",
       "PCLB003_PC3_24H_X3_B13:A06-1-1                 DMSO       PC3   1.000000   \n",
       "PCLB003_PC3_24H_X3_B13:B04-1-1                 DMSO       PC3   1.000000   \n",
       "PCLB003_PC3_24H_X3_B13:B05-1-1                 DMSO       PC3   1.000000   \n",
       "\n",
       "                                               cov_drug_dose_name  control  \\\n",
       "index                                                                        \n",
       "REP.A001_A375_24H_X1_B22:B13-2-0      A375_aminoglutethimide_10.0        0   \n",
       "REP.A001_A375_24H_X1_B22:B14-2-0   A375_aminoglutethimide_3.33333        0   \n",
       "REP.A001_A375_24H_X1_B22:B15-2-0   A375_aminoglutethimide_1.11111        0   \n",
       "REP.A001_A375_24H_X1_B22:B16-2-0   A375_aminoglutethimide_0.37037        0   \n",
       "REP.A001_A375_24H_X1_B22:B17-2-0  A375_aminoglutethimide_0.123457        0   \n",
       "...                                                           ...      ...   \n",
       "PCLB003_PC3_24H_X3_B13:A04-1-1                       PC3_DMSO_1.0        1   \n",
       "PCLB003_PC3_24H_X3_B13:A05-1-1                       PC3_DMSO_1.0        1   \n",
       "PCLB003_PC3_24H_X3_B13:A06-1-1                       PC3_DMSO_1.0        1   \n",
       "PCLB003_PC3_24H_X3_B13:B04-1-1                       PC3_DMSO_1.0        1   \n",
       "PCLB003_PC3_24H_X3_B13:B05-1-1                       PC3_DMSO_1.0        1   \n",
       "\n",
       "                                  split               canonical_smiles  \n",
       "index                                                                   \n",
       "REP.A001_A375_24H_X1_B22:B13-2-0  train  CCC1(CCC(=O)NC1=O)c1ccc(N)cc1  \n",
       "REP.A001_A375_24H_X1_B22:B14-2-0  train  CCC1(CCC(=O)NC1=O)c1ccc(N)cc1  \n",
       "REP.A001_A375_24H_X1_B22:B15-2-0  train  CCC1(CCC(=O)NC1=O)c1ccc(N)cc1  \n",
       "REP.A001_A375_24H_X1_B22:B16-2-0  train  CCC1(CCC(=O)NC1=O)c1ccc(N)cc1  \n",
       "REP.A001_A375_24H_X1_B22:B17-2-0  train  CCC1(CCC(=O)NC1=O)c1ccc(N)cc1  \n",
       "...                                 ...                            ...  \n",
       "PCLB003_PC3_24H_X3_B13:A04-1-1     test                        CS(=O)C  \n",
       "PCLB003_PC3_24H_X3_B13:A05-1-1    train                        CS(=O)C  \n",
       "PCLB003_PC3_24H_X3_B13:A06-1-1    train                        CS(=O)C  \n",
       "PCLB003_PC3_24H_X3_B13:B04-1-1     test                        CS(=O)C  \n",
       "PCLB003_PC3_24H_X3_B13:B05-1-1    train                        CS(=O)C  \n",
       "\n",
       "[176587 rows x 22 columns]"
      ],
      "text/html": [
       "<div>\n",
       "<style scoped>\n",
       "    .dataframe tbody tr th:only-of-type {\n",
       "        vertical-align: middle;\n",
       "    }\n",
       "\n",
       "    .dataframe tbody tr th {\n",
       "        vertical-align: top;\n",
       "    }\n",
       "\n",
       "    .dataframe thead th {\n",
       "        text-align: right;\n",
       "    }\n",
       "</style>\n",
       "<table border=\"1\" class=\"dataframe\">\n",
       "  <thead>\n",
       "    <tr style=\"text-align: right;\">\n",
       "      <th></th>\n",
       "      <th>cell_id</th>\n",
       "      <th>det_plate</th>\n",
       "      <th>det_well</th>\n",
       "      <th>lincs_phase</th>\n",
       "      <th>pert_dose</th>\n",
       "      <th>pert_dose_unit</th>\n",
       "      <th>pert_id</th>\n",
       "      <th>pert_iname</th>\n",
       "      <th>pert_mfc_id</th>\n",
       "      <th>pert_time</th>\n",
       "      <th>...</th>\n",
       "      <th>rna_plate</th>\n",
       "      <th>rna_well</th>\n",
       "      <th>batch</th>\n",
       "      <th>condition</th>\n",
       "      <th>cell_type</th>\n",
       "      <th>dose_val</th>\n",
       "      <th>cov_drug_dose_name</th>\n",
       "      <th>control</th>\n",
       "      <th>split</th>\n",
       "      <th>canonical_smiles</th>\n",
       "    </tr>\n",
       "    <tr>\n",
       "      <th>index</th>\n",
       "      <th></th>\n",
       "      <th></th>\n",
       "      <th></th>\n",
       "      <th></th>\n",
       "      <th></th>\n",
       "      <th></th>\n",
       "      <th></th>\n",
       "      <th></th>\n",
       "      <th></th>\n",
       "      <th></th>\n",
       "      <th></th>\n",
       "      <th></th>\n",
       "      <th></th>\n",
       "      <th></th>\n",
       "      <th></th>\n",
       "      <th></th>\n",
       "      <th></th>\n",
       "      <th></th>\n",
       "      <th></th>\n",
       "      <th></th>\n",
       "      <th></th>\n",
       "    </tr>\n",
       "  </thead>\n",
       "  <tbody>\n",
       "    <tr>\n",
       "      <th>REP.A001_A375_24H_X1_B22:B13-2-0</th>\n",
       "      <td>A375</td>\n",
       "      <td>REP.A001_A375_24H_X1_B22</td>\n",
       "      <td>B13</td>\n",
       "      <td>2</td>\n",
       "      <td>10.000000</td>\n",
       "      <td>um</td>\n",
       "      <td>BRD-A25234499</td>\n",
       "      <td>aminoglutethimide</td>\n",
       "      <td>BRD-A25234499-001-18-3</td>\n",
       "      <td>24.0</td>\n",
       "      <td>...</td>\n",
       "      <td>nan</td>\n",
       "      <td>nan</td>\n",
       "      <td>0</td>\n",
       "      <td>aminoglutethimide</td>\n",
       "      <td>A375</td>\n",
       "      <td>10.000000</td>\n",
       "      <td>A375_aminoglutethimide_10.0</td>\n",
       "      <td>0</td>\n",
       "      <td>train</td>\n",
       "      <td>CCC1(CCC(=O)NC1=O)c1ccc(N)cc1</td>\n",
       "    </tr>\n",
       "    <tr>\n",
       "      <th>REP.A001_A375_24H_X1_B22:B14-2-0</th>\n",
       "      <td>A375</td>\n",
       "      <td>REP.A001_A375_24H_X1_B22</td>\n",
       "      <td>B14</td>\n",
       "      <td>2</td>\n",
       "      <td>3.333330</td>\n",
       "      <td>um</td>\n",
       "      <td>BRD-A25234499</td>\n",
       "      <td>aminoglutethimide</td>\n",
       "      <td>BRD-A25234499-001-18-3</td>\n",
       "      <td>24.0</td>\n",
       "      <td>...</td>\n",
       "      <td>nan</td>\n",
       "      <td>nan</td>\n",
       "      <td>0</td>\n",
       "      <td>aminoglutethimide</td>\n",
       "      <td>A375</td>\n",
       "      <td>3.333330</td>\n",
       "      <td>A375_aminoglutethimide_3.33333</td>\n",
       "      <td>0</td>\n",
       "      <td>train</td>\n",
       "      <td>CCC1(CCC(=O)NC1=O)c1ccc(N)cc1</td>\n",
       "    </tr>\n",
       "    <tr>\n",
       "      <th>REP.A001_A375_24H_X1_B22:B15-2-0</th>\n",
       "      <td>A375</td>\n",
       "      <td>REP.A001_A375_24H_X1_B22</td>\n",
       "      <td>B15</td>\n",
       "      <td>2</td>\n",
       "      <td>1.111110</td>\n",
       "      <td>um</td>\n",
       "      <td>BRD-A25234499</td>\n",
       "      <td>aminoglutethimide</td>\n",
       "      <td>BRD-A25234499-001-18-3</td>\n",
       "      <td>24.0</td>\n",
       "      <td>...</td>\n",
       "      <td>nan</td>\n",
       "      <td>nan</td>\n",
       "      <td>0</td>\n",
       "      <td>aminoglutethimide</td>\n",
       "      <td>A375</td>\n",
       "      <td>1.111110</td>\n",
       "      <td>A375_aminoglutethimide_1.11111</td>\n",
       "      <td>0</td>\n",
       "      <td>train</td>\n",
       "      <td>CCC1(CCC(=O)NC1=O)c1ccc(N)cc1</td>\n",
       "    </tr>\n",
       "    <tr>\n",
       "      <th>REP.A001_A375_24H_X1_B22:B16-2-0</th>\n",
       "      <td>A375</td>\n",
       "      <td>REP.A001_A375_24H_X1_B22</td>\n",
       "      <td>B16</td>\n",
       "      <td>2</td>\n",
       "      <td>0.370370</td>\n",
       "      <td>um</td>\n",
       "      <td>BRD-A25234499</td>\n",
       "      <td>aminoglutethimide</td>\n",
       "      <td>BRD-A25234499-001-18-3</td>\n",
       "      <td>24.0</td>\n",
       "      <td>...</td>\n",
       "      <td>nan</td>\n",
       "      <td>nan</td>\n",
       "      <td>0</td>\n",
       "      <td>aminoglutethimide</td>\n",
       "      <td>A375</td>\n",
       "      <td>0.370370</td>\n",
       "      <td>A375_aminoglutethimide_0.37037</td>\n",
       "      <td>0</td>\n",
       "      <td>train</td>\n",
       "      <td>CCC1(CCC(=O)NC1=O)c1ccc(N)cc1</td>\n",
       "    </tr>\n",
       "    <tr>\n",
       "      <th>REP.A001_A375_24H_X1_B22:B17-2-0</th>\n",
       "      <td>A375</td>\n",
       "      <td>REP.A001_A375_24H_X1_B22</td>\n",
       "      <td>B17</td>\n",
       "      <td>2</td>\n",
       "      <td>0.123457</td>\n",
       "      <td>um</td>\n",
       "      <td>BRD-A25234499</td>\n",
       "      <td>aminoglutethimide</td>\n",
       "      <td>BRD-A25234499-001-18-3</td>\n",
       "      <td>24.0</td>\n",
       "      <td>...</td>\n",
       "      <td>nan</td>\n",
       "      <td>nan</td>\n",
       "      <td>0</td>\n",
       "      <td>aminoglutethimide</td>\n",
       "      <td>A375</td>\n",
       "      <td>0.123457</td>\n",
       "      <td>A375_aminoglutethimide_0.123457</td>\n",
       "      <td>0</td>\n",
       "      <td>train</td>\n",
       "      <td>CCC1(CCC(=O)NC1=O)c1ccc(N)cc1</td>\n",
       "    </tr>\n",
       "    <tr>\n",
       "      <th>...</th>\n",
       "      <td>...</td>\n",
       "      <td>...</td>\n",
       "      <td>...</td>\n",
       "      <td>...</td>\n",
       "      <td>...</td>\n",
       "      <td>...</td>\n",
       "      <td>...</td>\n",
       "      <td>...</td>\n",
       "      <td>...</td>\n",
       "      <td>...</td>\n",
       "      <td>...</td>\n",
       "      <td>...</td>\n",
       "      <td>...</td>\n",
       "      <td>...</td>\n",
       "      <td>...</td>\n",
       "      <td>...</td>\n",
       "      <td>...</td>\n",
       "      <td>...</td>\n",
       "      <td>...</td>\n",
       "      <td>...</td>\n",
       "      <td>...</td>\n",
       "    </tr>\n",
       "    <tr>\n",
       "      <th>PCLB003_PC3_24H_X3_B13:A04-1-1</th>\n",
       "      <td>PC3</td>\n",
       "      <td>nan</td>\n",
       "      <td>nan</td>\n",
       "      <td>1</td>\n",
       "      <td>1.000000</td>\n",
       "      <td>-666</td>\n",
       "      <td>DMSO</td>\n",
       "      <td>DMSO</td>\n",
       "      <td>nan</td>\n",
       "      <td>24.0</td>\n",
       "      <td>...</td>\n",
       "      <td>PCLB003_PC3_24H_X3</td>\n",
       "      <td>A04</td>\n",
       "      <td>1</td>\n",
       "      <td>DMSO</td>\n",
       "      <td>PC3</td>\n",
       "      <td>1.000000</td>\n",
       "      <td>PC3_DMSO_1.0</td>\n",
       "      <td>1</td>\n",
       "      <td>test</td>\n",
       "      <td>CS(=O)C</td>\n",
       "    </tr>\n",
       "    <tr>\n",
       "      <th>PCLB003_PC3_24H_X3_B13:A05-1-1</th>\n",
       "      <td>PC3</td>\n",
       "      <td>nan</td>\n",
       "      <td>nan</td>\n",
       "      <td>1</td>\n",
       "      <td>1.000000</td>\n",
       "      <td>-666</td>\n",
       "      <td>DMSO</td>\n",
       "      <td>DMSO</td>\n",
       "      <td>nan</td>\n",
       "      <td>24.0</td>\n",
       "      <td>...</td>\n",
       "      <td>PCLB003_PC3_24H_X3</td>\n",
       "      <td>A05</td>\n",
       "      <td>1</td>\n",
       "      <td>DMSO</td>\n",
       "      <td>PC3</td>\n",
       "      <td>1.000000</td>\n",
       "      <td>PC3_DMSO_1.0</td>\n",
       "      <td>1</td>\n",
       "      <td>train</td>\n",
       "      <td>CS(=O)C</td>\n",
       "    </tr>\n",
       "    <tr>\n",
       "      <th>PCLB003_PC3_24H_X3_B13:A06-1-1</th>\n",
       "      <td>PC3</td>\n",
       "      <td>nan</td>\n",
       "      <td>nan</td>\n",
       "      <td>1</td>\n",
       "      <td>1.000000</td>\n",
       "      <td>-666</td>\n",
       "      <td>DMSO</td>\n",
       "      <td>DMSO</td>\n",
       "      <td>nan</td>\n",
       "      <td>24.0</td>\n",
       "      <td>...</td>\n",
       "      <td>PCLB003_PC3_24H_X3</td>\n",
       "      <td>A06</td>\n",
       "      <td>1</td>\n",
       "      <td>DMSO</td>\n",
       "      <td>PC3</td>\n",
       "      <td>1.000000</td>\n",
       "      <td>PC3_DMSO_1.0</td>\n",
       "      <td>1</td>\n",
       "      <td>train</td>\n",
       "      <td>CS(=O)C</td>\n",
       "    </tr>\n",
       "    <tr>\n",
       "      <th>PCLB003_PC3_24H_X3_B13:B04-1-1</th>\n",
       "      <td>PC3</td>\n",
       "      <td>nan</td>\n",
       "      <td>nan</td>\n",
       "      <td>1</td>\n",
       "      <td>1.000000</td>\n",
       "      <td>-666</td>\n",
       "      <td>DMSO</td>\n",
       "      <td>DMSO</td>\n",
       "      <td>nan</td>\n",
       "      <td>24.0</td>\n",
       "      <td>...</td>\n",
       "      <td>PCLB003_PC3_24H_X3</td>\n",
       "      <td>B04</td>\n",
       "      <td>1</td>\n",
       "      <td>DMSO</td>\n",
       "      <td>PC3</td>\n",
       "      <td>1.000000</td>\n",
       "      <td>PC3_DMSO_1.0</td>\n",
       "      <td>1</td>\n",
       "      <td>test</td>\n",
       "      <td>CS(=O)C</td>\n",
       "    </tr>\n",
       "    <tr>\n",
       "      <th>PCLB003_PC3_24H_X3_B13:B05-1-1</th>\n",
       "      <td>PC3</td>\n",
       "      <td>nan</td>\n",
       "      <td>nan</td>\n",
       "      <td>1</td>\n",
       "      <td>1.000000</td>\n",
       "      <td>-666</td>\n",
       "      <td>DMSO</td>\n",
       "      <td>DMSO</td>\n",
       "      <td>nan</td>\n",
       "      <td>24.0</td>\n",
       "      <td>...</td>\n",
       "      <td>PCLB003_PC3_24H_X3</td>\n",
       "      <td>B05</td>\n",
       "      <td>1</td>\n",
       "      <td>DMSO</td>\n",
       "      <td>PC3</td>\n",
       "      <td>1.000000</td>\n",
       "      <td>PC3_DMSO_1.0</td>\n",
       "      <td>1</td>\n",
       "      <td>train</td>\n",
       "      <td>CS(=O)C</td>\n",
       "    </tr>\n",
       "  </tbody>\n",
       "</table>\n",
       "<p>176587 rows × 22 columns</p>\n",
       "</div>"
      ]
     },
     "metadata": {},
     "execution_count": 15
    }
   ],
   "metadata": {}
  },
  {
   "cell_type": "code",
   "execution_count": null,
   "source": [],
   "outputs": [],
   "metadata": {}
  }
 ],
 "metadata": {
  "kernelspec": {
   "display_name": "Python 3",
   "language": "python",
   "name": "python3"
  },
  "language_info": {
   "codemirror_mode": {
    "name": "ipython",
    "version": 3
   },
   "file_extension": ".py",
   "mimetype": "text/x-python",
   "name": "python",
   "nbconvert_exporter": "python",
   "pygments_lexer": "ipython3",
   "version": "3.8.8"
  }
 },
 "nbformat": 4,
 "nbformat_minor": 5
}