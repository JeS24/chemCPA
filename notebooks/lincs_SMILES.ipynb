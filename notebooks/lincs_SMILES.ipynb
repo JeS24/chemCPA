{
 "cells": [
  {
   "cell_type": "code",
   "execution_count": 1,
   "source": [
    "import os \n",
    "import scanpy as sc\n",
    "import matplotlib.pyplot as plt\n",
    "import numpy as np \n",
    "import pandas as pd\n",
    "sc.set_figure_params(dpi=80, frameon=False)\n",
    "sc.logging.print_header()\n",
    "os.getcwd()"
   ],
   "outputs": [
    {
     "output_type": "stream",
     "name": "stdout",
     "text": [
      "scanpy==1.8.0.dev78+gc488909a anndata==0.7.6 umap==0.5.1 numpy==1.19.2 scipy==1.6.2 pandas==1.2.4 scikit-learn==0.24.1 statsmodels==0.12.2 python-igraph==0.9.1 louvain==0.7.0\n"
     ]
    },
    {
     "output_type": "execute_result",
     "data": {
      "text/plain": [
       "'/home/icb/leon.hetzel/git/CPA_graphs/notebooks'"
      ]
     },
     "metadata": {},
     "execution_count": 1
    }
   ],
   "metadata": {}
  },
  {
   "cell_type": "code",
   "execution_count": 2,
   "source": [
    "%load_ext autoreload\n",
    "%autoreload 2"
   ],
   "outputs": [],
   "metadata": {}
  },
  {
   "cell_type": "markdown",
   "source": [
    "### Loading LINCS and reference data"
   ],
   "metadata": {}
  },
  {
   "cell_type": "code",
   "execution_count": 3,
   "source": [
    "full = True\n",
    "if full:\n",
    "    adata = sc.read('../datasets/lincs_full.h5ad')\n",
    "    adata_out = '../datasets/lincs_full_smiles.h5ad' \n",
    "else: \n",
    "    adata = sc.read('../datasets/lincs.h5ad')\n",
    "    adata_out = '../datasets/lincs_smiles.h5ad'  \n"
   ],
   "outputs": [],
   "metadata": {}
  },
  {
   "cell_type": "markdown",
   "source": [
    "Checking number of drugs for LINCS"
   ],
   "metadata": {}
  },
  {
   "cell_type": "code",
   "execution_count": 4,
   "source": [
    "pert_id_unique = pd.Series(np.unique(adata.obs.pert_id))\n",
    "print(f\"# of unique perturbations: {len(pert_id_unique)}\")"
   ],
   "outputs": [
    {
     "output_type": "stream",
     "name": "stdout",
     "text": [
      "# of unique perturbations: 21304\n"
     ]
    }
   ],
   "metadata": {}
  },
  {
   "cell_type": "markdown",
   "source": [
    "Loading reference dataframe and restricting to `'pert_id'` and `'canonical_smiles'`"
   ],
   "metadata": {}
  },
  {
   "cell_type": "code",
   "execution_count": 5,
   "source": [
    "reference_df = pd.read_csv('../datasets/GSE92742_Broad_LINCS_pert_info.txt', delimiter = \"\\t\")\n",
    "reference_df = reference_df.loc[reference_df.pert_id.isin(pert_id_unique), ['pert_id', 'canonical_smiles']]\n",
    "reference_df.canonical_smiles.value_counts()"
   ],
   "outputs": [
    {
     "output_type": "execute_result",
     "data": {
      "text/plain": [
       "-666                                                                                                                                                  63\n",
       "restricted                                                                                                                                            14\n",
       "CCC1=C[C@@H]2C[N@](C1)Cc1c([nH]c3ccccc13)[C@@](C2)(C(=O)OC)c1cc2c(cc1OC)N(C)[C@@H]1[C@]22CCN3CC=C[C@@](CC)([C@@H]23)[C@@H](OC(C)=O)[C@]1(O)C(=O)OC     2\n",
       "CN(\\N=C\\c1cnc2ccc(Br)cn12)S(=O)(=O)c1cc(ccc1C)[N+]([O-])=O                                                                                             2\n",
       "CS(=O)(=O)CCNCc1ccc(o1)-c1ccc2ncnc(Nc3ccc(OCc4cccc(F)c4)c(Cl)c3)c2c1                                                                                   2\n",
       "                                                                                                                                                      ..\n",
       "CC(C)=CCC\\C(C)=C\\CC\\C(C)=C\\COP(O)(=O)OP(O)(O)=O                                                                                                        1\n",
       "CN1[C@@H]2CC[C@@H](CC(=O)NCCCN3CCOCC3)O[C@H]2COc2ccc(NC(=O)Cc3cccs3)cc2C1=O                                                                            1\n",
       "CC(C)NC(=O)N(C)C[C@H]1Oc2cc(C#C[C@@H](C)O)ccc2S(=O)(=O)N(C[C@H]1C)[C@H](C)CO                                                                           1\n",
       "Cc1ccc(F)cc1S(=O)(=O)N[C@@H]2CCN(Cc3ccc4[nH]ccc4c3)C2                                                                                                  1\n",
       "CC(C)c1ccc2n(Cc3ccc(Cl)cc3)c(CC(C)(C)C(=O)O)c(SC(C)(C)C)c2c1                                                                                           1\n",
       "Name: canonical_smiles, Length: 20331, dtype: int64"
      ]
     },
     "metadata": {},
     "execution_count": 5
    }
   ],
   "metadata": {}
  },
  {
   "cell_type": "code",
   "execution_count": 6,
   "source": [
    "cond = ~pert_id_unique.isin(reference_df.pert_id)\n",
    "print(f\"From {len(pert_id_unique)} total drugs, {cond.sum()} were not part of the reference dataframe.\")"
   ],
   "outputs": [
    {
     "output_type": "stream",
     "name": "stdout",
     "text": [
      "From 21304 total drugs, 890 were not part of the reference dataframe.\n"
     ]
    }
   ],
   "metadata": {}
  },
  {
   "cell_type": "markdown",
   "source": [
    "Adding `'canoncical_smiles'` column to `adata.obs` via `pd.merge`"
   ],
   "metadata": {}
  },
  {
   "cell_type": "code",
   "execution_count": 7,
   "source": [
    "adata.obs = adata.obs.reset_index().merge(reference_df, how=\"left\").set_index('index')"
   ],
   "outputs": [],
   "metadata": {}
  },
  {
   "cell_type": "markdown",
   "source": [
    "Removing invalid SMILES strings "
   ],
   "metadata": {}
  },
  {
   "cell_type": "code",
   "execution_count": 8,
   "source": [
    "adata.obs.canonical_smiles = adata.obs.canonical_smiles.astype('str')\n",
    "invalid_smiles = adata.obs.canonical_smiles.isin(['-666', 'restricted', 'nan'])\n",
    "print(f'Among {len(adata)} observations, {100*invalid_smiles.sum()/len(adata):.2f}% ({invalid_smiles.sum()}) do not have a valid SMILES string')\n",
    "adata = adata[~invalid_smiles]"
   ],
   "outputs": [
    {
     "output_type": "stream",
     "name": "stdout",
     "text": [
      "Among 1034271 observations, 13.51% (139764) do not have a valid SMILES string\n"
     ]
    }
   ],
   "metadata": {}
  },
  {
   "cell_type": "markdown",
   "source": [
    "Remove invalid `'pert_dose'` value: `-666`"
   ],
   "metadata": {}
  },
  {
   "cell_type": "code",
   "execution_count": 9,
   "source": [
    "cond = adata.obs.pert_dose.isin([-666])\n",
    "adata = adata[~cond]\n",
    "print(f\"A total of {cond.sum()} observations have invalid dose values\")"
   ],
   "outputs": [
    {
     "output_type": "stream",
     "name": "stdout",
     "text": [
      "A total of 42592 observations have invalid dose values\n"
     ]
    }
   ],
   "metadata": {}
  },
  {
   "cell_type": "code",
   "execution_count": 10,
   "source": [
    "drugs_validation = adata.obs.canonical_smiles.value_counts() < 5\n",
    "valid_drugs = drugs_validation.index[~drugs_validation]\n",
    "cond = adata.obs.canonical_smiles.isin(valid_drugs)\n",
    "print(f\"A total of {(~cond).sum()} observation belong to drugs which do not have enough replicates\")\n",
    "adata = adata[cond]"
   ],
   "outputs": [
    {
     "output_type": "stream",
     "name": "stdout",
     "text": [
      "A total of 3808 observation belong to drugs which do not have enough replicates\n"
     ]
    }
   ],
   "metadata": {}
  },
  {
   "cell_type": "markdown",
   "source": [
    "Checking that SMILES are valid according to `rdkit` "
   ],
   "metadata": {}
  },
  {
   "cell_type": "code",
   "execution_count": 11,
   "source": [
    "from rdkit import Chem\n",
    "\n",
    "def check_smiles(smiles):\n",
    "    m = Chem.MolFromSmiles(smiles,sanitize=False)\n",
    "    if m is None:\n",
    "        print('invalid SMILES')\n",
    "        return False\n",
    "    else:\n",
    "        try:\n",
    "            Chem.SanitizeMol(m)\n",
    "        except:\n",
    "            print('invalid chemistry')\n",
    "            return False\n",
    "    return True\n",
    "\n",
    "def remove_invalid_smiles(dataframe, smiles_key: str = 'SMILES', return_condition: bool = False):\n",
    "    unique_drugs = pd.Series(np.unique(dataframe[smiles_key]))\n",
    "    valid_drugs = unique_drugs.apply(check_smiles)\n",
    "    print(f\"A total of {(~valid_drugs).sum()} have invalid SMILES strings\")\n",
    "    _validation_map = dict(zip(unique_drugs, valid_drugs))\n",
    "    cond = dataframe[smiles_key].apply(lambda x: _validation_map[x])\n",
    "    if return_condition: \n",
    "        return cond\n",
    "    dataframe = dataframe[cond].copy()\n",
    "    return dataframe\n",
    "\n",
    "adata"
   ],
   "outputs": [
    {
     "output_type": "execute_result",
     "data": {
      "text/plain": [
       "View of AnnData object with n_obs × n_vars = 848107 × 978\n",
       "    obs: 'cell_id', 'det_plate', 'det_well', 'lincs_phase', 'pert_dose', 'pert_dose_unit', 'pert_id', 'pert_iname', 'pert_mfc_id', 'pert_time', 'pert_time_unit', 'pert_type', 'rna_plate', 'rna_well', 'canonical_smiles'\n",
       "    var: 'pr_gene_title', 'pr_is_lm', 'pr_is_bing'\n",
       "    uns: 'cydata_pull'"
      ]
     },
     "metadata": {},
     "execution_count": 11
    }
   ],
   "metadata": {}
  },
  {
   "cell_type": "code",
   "execution_count": 12,
   "source": [
    "cond = remove_invalid_smiles(adata.obs, smiles_key='canonical_smiles', return_condition=True)\n",
    "adata = adata[cond]\n",
    "adata "
   ],
   "outputs": [
    {
     "output_type": "stream",
     "name": "stdout",
     "text": [
      "A total of 0 have invalid SMILES strings\n"
     ]
    },
    {
     "output_type": "execute_result",
     "data": {
      "text/plain": [
       "View of AnnData object with n_obs × n_vars = 848107 × 978\n",
       "    obs: 'cell_id', 'det_plate', 'det_well', 'lincs_phase', 'pert_dose', 'pert_dose_unit', 'pert_id', 'pert_iname', 'pert_mfc_id', 'pert_time', 'pert_time_unit', 'pert_type', 'rna_plate', 'rna_well', 'canonical_smiles'\n",
       "    var: 'pr_gene_title', 'pr_is_lm', 'pr_is_bing'\n",
       "    uns: 'cydata_pull'"
      ]
     },
     "metadata": {},
     "execution_count": 12
    }
   ],
   "metadata": {}
  },
  {
   "cell_type": "code",
   "execution_count": 13,
   "source": [
    "adata.write(adata_out)\n",
    "adata"
   ],
   "outputs": [
    {
     "output_type": "stream",
     "name": "stderr",
     "text": [
      "/home/icb/leon.hetzel/miniconda3/envs/py38/lib/python3.8/site-packages/anndata/_core/anndata.py:1228: ImplicitModificationWarning: Initializing view as actual.\n",
      "  warnings.warn(\n",
      "Trying to set attribute `.obs` of view, copying.\n",
      "... storing 'pert_id' as categorical\n",
      "Trying to set attribute `.obs` of view, copying.\n",
      "... storing 'canonical_smiles' as categorical\n"
     ]
    },
    {
     "output_type": "execute_result",
     "data": {
      "text/plain": [
       "AnnData object with n_obs × n_vars = 848107 × 978\n",
       "    obs: 'cell_id', 'det_plate', 'det_well', 'lincs_phase', 'pert_dose', 'pert_dose_unit', 'pert_id', 'pert_iname', 'pert_mfc_id', 'pert_time', 'pert_time_unit', 'pert_type', 'rna_plate', 'rna_well', 'canonical_smiles'\n",
       "    var: 'pr_gene_title', 'pr_is_lm', 'pr_is_bing'\n",
       "    uns: 'cydata_pull'"
      ]
     },
     "metadata": {},
     "execution_count": 13
    }
   ],
   "metadata": {}
  },
  {
   "cell_type": "code",
   "execution_count": 14,
   "source": [
    "print('Finished')"
   ],
   "outputs": [
    {
     "output_type": "stream",
     "name": "stdout",
     "text": [
      "Finished\n"
     ]
    }
   ],
   "metadata": {}
  },
  {
   "cell_type": "code",
   "execution_count": null,
   "source": [],
   "outputs": [],
   "metadata": {}
  }
 ],
 "metadata": {
  "kernelspec": {
   "display_name": "Python 3",
   "language": "python",
   "name": "python3"
  },
  "language_info": {
   "codemirror_mode": {
    "name": "ipython",
    "version": 3
   },
   "file_extension": ".py",
   "mimetype": "text/x-python",
   "name": "python",
   "nbconvert_exporter": "python",
   "pygments_lexer": "ipython3",
   "version": "3.8.8"
  }
 },
 "nbformat": 4,
 "nbformat_minor": 5
}