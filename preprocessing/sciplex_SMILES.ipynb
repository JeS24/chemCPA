{
 "cells": [
  {
   "cell_type": "markdown",
   "id": "e4ac8068-6c28-44dd-bd7e-a2fc37938f23",
   "metadata": {},
   "source": [
    "**Requires**\n",
    "* `'sciplex3_matched_genes_lincs.h5ad'`\n",
    "* `'trapnell_final_V7.h5ad'`\n",
    "\n",
    "**Output**\n",
    "* `'trapnell_cpa.h5ad'`\n",
    "* `'trapnell_cpa_subset.h5ad'`\n",
    "\n",
    "## Imports"
   ]
  },
  {
   "cell_type": "code",
   "execution_count": 1,
   "id": "852f177f-f3f8-4674-a869-44dfa85359f8",
   "metadata": {},
   "outputs": [
    {
     "name": "stderr",
     "output_type": "stream",
     "text": [
      "2021-12-23 08:35:06.480833: W tensorflow/stream_executor/platform/default/dso_loader.cc:64] Could not load dynamic library 'libcudart.so.11.0'; dlerror: libcudart.so.11.0: cannot open shared object file: No such file or directory\n",
      "2021-12-23 08:35:06.480865: I tensorflow/stream_executor/cuda/cudart_stub.cc:29] Ignore above cudart dlerror if you do not have a GPU set up on your machine.\n"
     ]
    },
    {
     "name": "stdout",
     "output_type": "stream",
     "text": [
      "scanpy==1.8.2 anndata==0.7.6 umap==0.5.1 numpy==1.21.5 scipy==1.7.3 pandas==1.3.5 scikit-learn==1.0.1 statsmodels==0.13.0 pynndescent==0.5.4\n"
     ]
    }
   ],
   "source": [
    "import matplotlib.pyplot as plt\n",
    "import numpy as np\n",
    "import pandas as pd\n",
    "import rdkit \n",
    "import scanpy as sc\n",
    "\n",
    "from rdkit import Chem\n",
    "from compert.paths import DATA_DIR, PROJECT_DIR\n",
    "\n",
    "sc.set_figure_params(dpi=100, frameon=False)\n",
    "sc.logging.print_header()"
   ]
  },
  {
   "cell_type": "code",
   "execution_count": 2,
   "id": "a2d6d8f7-ed22-4fac-843e-4406af91d91c",
   "metadata": {
    "scrolled": true
   },
   "outputs": [],
   "source": [
    "%load_ext autoreload\n",
    "%autoreload 2"
   ]
  },
  {
   "cell_type": "markdown",
   "id": "f729ae3a-6303-4e3d-acd3-cbe1b6ab7f5e",
   "metadata": {},
   "source": [
    "## Load data"
   ]
  },
  {
   "cell_type": "code",
   "execution_count": 3,
   "id": "121ef798-2dce-4984-b1db-981bf7312b10",
   "metadata": {},
   "outputs": [],
   "source": [
    "# adata_cpa = sc.read(DATA_DIR/'sciplex3_old_reproduced.h5ad')\n",
    "adata_cpa = sc.read(PROJECT_DIR/'datasets'/'sciplex3_matched_genes_lincs.h5ad')\n",
    "adata_cpi = sc.read(PROJECT_DIR/'datasets'/'trapnell_final_V7.h5ad')"
   ]
  },
  {
   "cell_type": "markdown",
   "id": "6b45f3d4-dc24-41d3-842d-8264cc491aaa",
   "metadata": {},
   "source": [
    "Determine output directory"
   ]
  },
  {
   "cell_type": "code",
   "execution_count": 4,
   "id": "392d448a-8ec5-41bc-90b3-63ac8b8ce3b3",
   "metadata": {},
   "outputs": [],
   "source": [
    "adata_out = PROJECT_DIR / 'datasets' / 'trapnell_cpa.h5ad'\n",
    "adata_out_subset = PROJECT_DIR / 'datasets' / 'trapnell_cpa_subset.h5ad'"
   ]
  },
  {
   "cell_type": "markdown",
   "id": "836e940e-5db4-4523-833f-143aa9979acf",
   "metadata": {},
   "source": [
    "Overview over adata files"
   ]
  },
  {
   "cell_type": "code",
   "execution_count": 5,
   "id": "df885b5a-e8d7-4cff-8825-94c498045458",
   "metadata": {},
   "outputs": [],
   "source": [
    "# adata_cpa"
   ]
  },
  {
   "cell_type": "code",
   "execution_count": 6,
   "id": "f0ebec71-307a-4628-a0f8-f8e7ce77a55a",
   "metadata": {},
   "outputs": [],
   "source": [
    "# adata_cpi"
   ]
  },
  {
   "cell_type": "markdown",
   "id": "08f3ef9b-fdf7-4f62-a4cb-cebb87fd83b2",
   "metadata": {},
   "source": [
    "## Check and align `.obs_names`"
   ]
  },
  {
   "cell_type": "code",
   "execution_count": 7,
   "id": "26767716-09a8-4340-b9ce-7ff13408c40a",
   "metadata": {},
   "outputs": [],
   "source": [
    "# adata_cpa.obs_names"
   ]
  },
  {
   "cell_type": "code",
   "execution_count": 8,
   "id": "264fa604-83af-4a1f-b285-4775415685a3",
   "metadata": {},
   "outputs": [],
   "source": [
    "# adata_cpi.obs_names"
   ]
  },
  {
   "cell_type": "code",
   "execution_count": 9,
   "id": "dcd9c761-2656-4745-98a4-f0f346bbd9d5",
   "metadata": {},
   "outputs": [],
   "source": [
    "def del_extensions(string, num):\n",
    "    return '-'.join(string.split('-')[:-num])\n"
   ]
  },
  {
   "cell_type": "code",
   "execution_count": 10,
   "id": "46b61eeb-216a-4636-971f-c07a94754713",
   "metadata": {},
   "outputs": [
    {
     "name": "stdout",
     "output_type": "stream",
     "text": [
      "F05_F10_RT_BC_353_Lig_BC_93-0\n"
     ]
    }
   ],
   "source": [
    "for name in adata_cpi.obs_names: \n",
    "    print(del_extensions(name, 1))\n",
    "    break"
   ]
  },
  {
   "cell_type": "markdown",
   "id": "b8619086-351d-456d-b7f7-6efdab41f310",
   "metadata": {},
   "source": [
    "Delte merging atefacts from adata obs names"
   ]
  },
  {
   "cell_type": "code",
   "execution_count": 11,
   "id": "39ce7525-ec52-43df-b297-efb759d2a073",
   "metadata": {},
   "outputs": [],
   "source": [
    "# adata_cpi\n",
    "new_index = adata_cpi.obs_names.to_series().apply(lambda s: del_extensions(s, 1))\n",
    "adata_cpi.obs.set_index(new_index, inplace=True)"
   ]
  },
  {
   "cell_type": "code",
   "execution_count": 12,
   "id": "727edd7e-cac1-4b84-bf32-447a873a1aa7",
   "metadata": {},
   "outputs": [],
   "source": [
    "# adata_cpa\n",
    "new_index = adata_cpa.obs_names.to_series().apply(lambda s: del_extensions(s, 2))\n",
    "adata_cpa.obs.set_index(new_index, inplace=True)"
   ]
  },
  {
   "cell_type": "code",
   "execution_count": 13,
   "id": "2195e1bc-4e0f-4df3-8ee3-e63dcd87d6d1",
   "metadata": {},
   "outputs": [],
   "source": [
    "# adata_cpa.obs_names"
   ]
  },
  {
   "cell_type": "markdown",
   "id": "4fd33263-94dd-4028-9903-566940377958",
   "metadata": {},
   "source": [
    "Check that `obs_names` are identical, if identical output is `0`"
   ]
  },
  {
   "cell_type": "code",
   "execution_count": 14,
   "id": "1fb3ff89-8e10-451b-9ce1-0f7c60ada77f",
   "metadata": {},
   "outputs": [
    {
     "data": {
      "text/plain": "0"
     },
     "execution_count": 14,
     "metadata": {},
     "output_type": "execute_result"
    }
   ],
   "source": [
    "((adata_cpi.obs_names == adata_cpa.obs_names)-1).sum()"
   ]
  },
  {
   "cell_type": "markdown",
   "id": "860125da-cc68-409e-bb3e-e9085b135905",
   "metadata": {},
   "source": [
    "## Check columns in `adata_{cpi,cpa}.obs`"
   ]
  },
  {
   "cell_type": "code",
   "execution_count": 15,
   "id": "c2ebc5d8-8d65-4984-b79b-04698125385b",
   "metadata": {},
   "outputs": [],
   "source": [
    "cond_cpa = adata_cpa.obs.columns.isin(adata_cpi.obs.columns)\n",
    "cond_cpi = adata_cpi.obs.columns.isin(adata_cpa.obs.columns)"
   ]
  },
  {
   "cell_type": "code",
   "execution_count": 16,
   "id": "bdb1d46c-af67-48a5-b3ff-082e63bdeb4c",
   "metadata": {},
   "outputs": [
    {
     "name": "stdout",
     "output_type": "stream",
     "text": [
      "Shared columns:\n",
      "\n",
      "\t ['cell_type' 'dose' 'dose_character' 'dose_pattern' 'g1s_score'\n",
      " 'g2m_score' 'pathway' 'pathway_level_1' 'pathway_level_2' 'product_dose'\n",
      " 'product_name' 'proliferation_index' 'replicate' 'size_factor' 'target'\n",
      " 'vehicle' 'n_counts' 'condition' 'control' 'split']\n",
      "\n",
      "\n",
      "Unique columns for CPI compared to CPA:\n",
      "\n",
      "\t ['batch' 'dose_val' 'drug_dose_name' 'cov_drug_dose_name' 'cov_drug'\n",
      " 'split_all' 'ct_dose' 'split1' 'split2' 'split3' 'split4' 'split5'\n",
      " 'split6' 'split7' 'split8' 'split9' 'split10' 'split11' 'split12'\n",
      " 'split13' 'split14' 'split15' 'split16' 'split17' 'split18' 'split19'\n",
      " 'split20' 'split21' 'split22' 'split23' 'split24' 'split25' 'split26'\n",
      " 'split27' 'split28']\n"
     ]
    }
   ],
   "source": [
    "print(f'Shared columns:\\n\\n\\t {adata_cpa.obs.columns[cond_cpa].values}\\n\\n')\n",
    "print(f'Unique columns for CPI compared to CPA:\\n\\n\\t {adata_cpa.obs.columns[~cond_cpa].values}')"
   ]
  },
  {
   "cell_type": "code",
   "execution_count": 17,
   "id": "52c05b1f-a931-4f31-8b10-8461ed4146a5",
   "metadata": {},
   "outputs": [
    {
     "name": "stdout",
     "output_type": "stream",
     "text": [
      "Shared columns:\n",
      "\n",
      "\t ['cell_type' 'dose' 'dose_character' 'dose_pattern' 'g1s_score'\n",
      " 'g2m_score' 'pathway' 'pathway_level_1' 'pathway_level_2' 'product_dose'\n",
      " 'product_name' 'proliferation_index' 'replicate' 'size_factor' 'target'\n",
      " 'vehicle' 'n_counts' 'condition' 'split' 'control']\n",
      "\n",
      "\n",
      "Unique columns for CPA compared to CPI:\n",
      "\n",
      "\t ['log_counts' 'n_genes' 'pert_iname' 'SMILES' 'DrugBank_ID' 'Age' 'Gender'\n",
      " 'Disease' 'Histology' 'mutRate' 'split_train_test'\n",
      " 'split_OOD_max_dose_A549' 'split_OOD_max_dose_MCF7'\n",
      " 'split_OOD_max_dose_K562' 'split_OOD_max_dose' 'split_OOD_mean_dose_A549'\n",
      " 'split_OOD_mean_dose_MCF7' 'split_OOD_mean_dose_K562'\n",
      " 'split_OOD_mean_dose' 'n_counts_hvg' 'n_genes_hvg' 'sum_gene_exp'\n",
      " 'mol_weight' 'ATC_level_1' 'ATC_level_1_abb' 'target_gene_names'\n",
      " 'target_names' 'logP' 'logS' 'water_solubility' 'molecular_formula'\n",
      " 'polar_surface_area' 'refractivity' 'polarizability'\n",
      " 'rotatable_bond_count' 'h_bond_acceptor_count' 'h_bond_donor_count'\n",
      " 'pKa_strongest_acidic' 'pKa_strongest_basic' 'physiological_charge'\n",
      " 'number_of_rings' 'melting_point' 'split_OOD_effective_drugs_A549'\n",
      " 'split_OOD_effective_drugs_MCF7' 'split_OOD_effective_drugs_K562'\n",
      " 'split_OOD_effective_drugs_MCF7_K562'\n",
      " 'split_OOD_effective_drugs_A549_K562'\n",
      " 'split_OOD_effective_drugs_A549_MCF7' 'split_OOD_effective_drugs']\n"
     ]
    }
   ],
   "source": [
    "print(f'Shared columns:\\n\\n\\t {adata_cpi.obs.columns[cond_cpi].values}\\n\\n')\n",
    "print(f'Unique columns for CPA compared to CPI:\\n\\n\\t {adata_cpi.obs.columns[~cond_cpi].values}')"
   ]
  },
  {
   "cell_type": "markdown",
   "id": "48d26a5c-86e9-4684-863e-fdcd34a55188",
   "metadata": {},
   "source": [
    "## Add SMILES from CPI to CPA \n",
    "This is possible since the index of the two adatas are identical (section above)"
   ]
  },
  {
   "cell_type": "code",
   "execution_count": 18,
   "id": "8bec475f-5d1d-4f14-98b8-505130fb36a8",
   "metadata": {},
   "outputs": [
    {
     "data": {
      "text/plain": "                                                                                                 6464\nCl.Cl.C1[C@@H](NC2CCNCC2)[C@@H]1C1=CC=CC=C1 |r,c:14,16,t:12|                                     1868\nCOC(=O)C1=CC=C2N(CCCC3=CC=CC=C3)C(NC(=O)C3=CC=CC=C3)=NC2=C1 |c:14,16,25,27,29,32,t:4,6,12,23|    1868\nCCS(=O)(=O)N1CC(CC#N)(C1)N1C=C(C=N1)C1=NC=NC2=C1C=CN2 |c:14,16,21,23,26,t:19|                    1862\nCCN(CC)C(=O)C(\\C#N)=C\\C1=CC(=C(O)C(O)=C1)[N+]([O-])=O |c:17,t:11,13|                             1853\n                                                                                                 ... \nO=C(NC1CC1)NC1=CNN=C1C1=NC2=CC(CN3CCOCC3)=CC=C2N1 |c:11,26,28,t:8,14,16|                          910\nCC1CCCC2(C)OC2CC(OC(=O)CC(O)C(C)(C)C(=O)C(C)C1O)\\C(C)=C\\C3=CSC(=N3)C                              757\nCl.CN1CCC(C(O)C1)C2=C3OC(=CC(=O)C3=C(O)C=C2O)C4=C(Cl)C=CC=C4                                      693\nCC1CCCC2OC2CC(OC(=O)CC(O)C(C)(C)C(=O)C(C)C1O)\\C(C)=C\\C3=CSC(=N3)C                                 583\n[Br-].COCC[N]1C(=[N+](CC2=CN=CC=N2)C3=C1C(=O)C4=C(C=CC=C4)C3=O)C                                  394\nName: SMILES, Length: 189, dtype: int64"
     },
     "execution_count": 18,
     "metadata": {},
     "output_type": "execute_result"
    }
   ],
   "source": [
    "# Stats on SMILES comlun\n",
    "adata_cpi.obs.SMILES.value_counts()"
   ]
  },
  {
   "cell_type": "markdown",
   "id": "89164c93-da4a-4637-a4b5-c5a075bc980e",
   "metadata": {},
   "source": [
    "Add SMILES"
   ]
  },
  {
   "cell_type": "code",
   "execution_count": 19,
   "id": "7b66091e-9bf8-4a0b-a221-053b837bdca3",
   "metadata": {},
   "outputs": [],
   "source": [
    "adata_cpa.obs['SMILES'] = adata_cpi.obs.SMILES"
   ]
  },
  {
   "cell_type": "markdown",
   "id": "5790f363-e2b4-440b-9e28-ad17645cb3b6",
   "metadata": {},
   "source": [
    "## Check that SMILES match condition data\n",
    "\n",
    "Print some stats on the `condition` columns"
   ]
  },
  {
   "cell_type": "code",
   "execution_count": 20,
   "id": "867bbc79",
   "metadata": {},
   "outputs": [
    {
     "name": "stdout",
     "output_type": "stream",
     "text": [
      "We have 188 drug names in adata_cpa: \n",
      "\n",
      "\t['control', 'ENMD-2076', 'BRD4770', 'GSK-LSD1', 'Baricitinib', 'Entacapone', 'RG108', 'WP1066', 'Curcumin', 'Capecitabine', 'Mesna', 'Tubastatin', 'Tranylcypromine', 'Busulfan', 'Cerdulatinib', 'Tofacitinib', 'PD98059', 'AICAR', 'SRT2104', 'Tacedinaline', 'Valproic', 'Triamcinolone', 'CEP-33779', 'Clevudine', 'Anacardic', 'MK-0752', 'Filgotinib', 'Altretamine', 'NVP-BSK805', 'GSK', 'UNC0631', 'Tazemetostat', 'WHI-P154', 'Sirtinol', 'PJ34', 'Sodium', 'Daphnetin', 'Ofloxacin', 'AG-490', 'Meprednisone', 'S3I-201', 'IOX2', 'JNJ-26854165', 'Motesanib', 'Zileuton', 'MC1568', 'Streptozotocin', 'INO-1001', 'Fasudil', 'Ramelteon', 'Entinostat', 'Selisistat', 'Aminoglutethimide', 'S-Ruxolitinib', 'Costunolide', 'A-366', 'Andarine', 'Fluorouracil', 'Quercetin', 'Fulvestrant', 'TGX-221', 'UNC1999', 'Tie2', 'Ki8751', 'UNC0379', 'Resminostat', 'AC480', 'AG-14361', 'PD173074', 'Divalproex', 'EED226', 'Maraviroc', 'Ki16425', 'CUDC-101', 'Carmofur', 'SL-327', 'Thalidomide', 'Roscovitine', 'Thiotepa', 'Glesatinib?(MGCD265)', 'Avagacestat', 'Amisulpride', 'BMS-265246', 'Linifanib', 'PFI-1', 'Gandotinib', 'Droxinostat', 'Veliparib', 'M344', 'Obatoclax', 'Azacitidine', 'Prednisone', 'SGI-1776', 'Ruxolitinib', 'Lomustine', 'Givinostat', 'Nilotinib', 'Belinostat', 'FLLL32', 'Momelotinib', 'AZ', 'Mercaptopurine', 'Trichostatin', 'Disulfiram', 'MK-5108', 'Cyclocytidine', 'Sorafenib', 'KW-2449', 'TG101209', 'Cediranib', 'Celecoxib', 'Navitoclax', 'JNJ-7706621', 'Lenalidomide', 'SB431542', 'SRT1720', '(+)-JQ1', 'SRT3025', 'Toremifene', 'Resveratrol', 'Lapatinib', 'Aurora', '2-Methoxyestradiol', 'G007-LK', 'Cimetidine', 'Pelitinib', 'Roxadustat', 'CYC116', 'Ellagic', 'PCI-34051', 'Nintedanib', 'Pracinostat', 'Abexinostat', 'BMS-536924', 'PF-3845', 'XAV-939', 'Crizotinib', 'ITSA-1', 'Fedratinib', 'AR-42', 'ZM', 'ABT-737', 'Enzastaurin', 'Vandetanib', 'Regorafenib', 'AZD1480', 'AMG-900', 'BMS-754807', 'Alendronate', 'Panobinostat', 'BMS-911543', 'Raltitrexed', 'TMP195', 'Dasatinib', 'GSK1070916', 'CUDC-907', 'Bisindolylmaleimide', 'Trametinib', 'PF-573228', 'Bosutinib', 'Dacinostat', 'Danusertib', 'Ivosidenib', 'Rucaparib', 'Pirarubicin', 'Barasertib', 'Quisinostat', 'Decitabine', 'MLN8054', 'Tucidinostat', 'Tanespimycin', 'SNS-314', 'Temsirolimus', 'Iniparib', 'PHA-680632', 'Alisertib', 'TAK-901', 'Hesperadin', 'Rigosertib', 'Luminespib', 'Tozasertib', 'Mocetinostat', 'Alvespimycin', 'AT9283', 'Patupilone', 'Flavopiridol', 'Epothilone', 'YM155']\n",
      "\n",
      "\n",
      "We have 188 drug names in adata_cpi: \n",
      "\n",
      "\t['control', 'ENMD-2076', 'GSK-LSD1', 'BRD4770', 'Baricitinib', 'Entacapone', 'RG108', 'WP1066', 'Curcumin', 'Capecitabine', 'Mesna', 'Tubastatin', 'Tranylcypromine', 'Busulfan', 'Cerdulatinib', 'Tofacitinib', 'PD98059', 'AICAR', 'Tacedinaline', 'SRT2104', 'Valproic', 'Triamcinolone', 'CEP-33779', 'Clevudine', 'Anacardic', 'MK-0752', 'Filgotinib', 'Altretamine', 'GSK', 'NVP-BSK805', 'UNC0631', 'Tazemetostat', 'WHI-P154', 'Sirtinol', 'PJ34', 'Daphnetin', 'Sodium', 'Ofloxacin', 'Meprednisone', 'AG-490', 'S3I-201', 'IOX2', 'JNJ-26854165', 'Motesanib', 'Zileuton', 'MC1568', 'Streptozotocin', 'INO-1001', 'Fasudil', 'Ramelteon', 'Entinostat', 'Selisistat', 'Aminoglutethimide', 'S-Ruxolitinib', 'Costunolide', 'A-366', 'Andarine', 'Quercetin', 'Fluorouracil', 'Fulvestrant', 'TGX-221', 'UNC1999', 'Tie2', 'Ki8751', 'UNC0379', 'Resminostat', 'AC480', 'AG-14361', 'PD173074', 'Divalproex', 'EED226', 'Maraviroc', 'Ki16425', 'CUDC-101', 'Carmofur', 'SL-327', 'Thalidomide', 'Thiotepa', 'Roscovitine', 'Glesatinib?(MGCD265)', 'Avagacestat', 'Amisulpride', 'BMS-265246', 'Linifanib', 'PFI-1', 'Droxinostat', 'Gandotinib', 'Veliparib', 'M344', 'Obatoclax', 'Azacitidine', 'Prednisone', 'SGI-1776', 'Ruxolitinib', 'Lomustine', 'Givinostat', 'Nilotinib', 'Belinostat', 'FLLL32', 'Momelotinib', 'AZ', 'Mercaptopurine', 'Trichostatin', 'Disulfiram', 'MK-5108', 'Cyclocytidine', 'Sorafenib', 'KW-2449', 'TG101209', 'Cediranib', 'Celecoxib', 'Navitoclax', 'JNJ-7706621', 'Lenalidomide', 'SB431542', 'SRT1720', 'SRT3025', 'JQ1', 'Toremifene', 'Resveratrol', 'Lapatinib', 'Aurora', '2-Methoxyestradiol', 'G007-LK', 'Cimetidine', 'Pelitinib', 'Roxadustat', 'CYC116', 'Ellagic', 'PCI-34051', 'Nintedanib', 'Pracinostat', 'Abexinostat', 'BMS-536924', 'PF-3845', 'XAV-939', 'Crizotinib', 'ITSA-1', 'Fedratinib', 'AR-42', 'ZM', 'ABT-737', 'Enzastaurin', 'Vandetanib', 'Regorafenib', 'AZD1480', 'AMG-900', 'BMS-754807', 'Alendronate', 'Panobinostat', 'BMS-911543', 'Raltitrexed', 'TMP195', 'Dasatinib', 'GSK1070916', 'CUDC-907', 'Bisindolylmaleimide', 'Trametinib', 'PF-573228', 'Bosutinib', 'Dacinostat', 'Danusertib', 'Ivosidenib', 'Rucaparib', 'Pirarubicin', 'Barasertib', 'Quisinostat', 'Decitabine', 'MLN8054', 'Tucidinostat', 'Tanespimycin', 'SNS-314', 'Temsirolimus', 'Iniparib', 'PHA-680632', 'Alisertib', 'TAK-901', 'Hesperadin', 'Rigosertib', 'Luminespib', 'Tozasertib', 'Mocetinostat', 'Alvespimycin', 'AT9283', 'Patupilone', 'Flavopiridol', 'Epothilone', 'YM155']\n"
     ]
    }
   ],
   "source": [
    "print(f'We have {len(list(adata_cpa.obs.condition.value_counts().index))} drug names in adata_cpa: \\n\\n\\t{list(adata_cpa.obs.condition.value_counts().index)}\\n\\n')\n",
    "print(f'We have {len(list(adata_cpi.obs.condition.value_counts().index))} drug names in adata_cpi: \\n\\n\\t{list(adata_cpi.obs.condition.value_counts().index)}')"
   ]
  },
  {
   "cell_type": "markdown",
   "id": "82f81005-0b9f-4c58-9c95-9657f389c3f7",
   "metadata": {},
   "source": [
    "Check that assigned SMILES match the condition,  \n",
    "it should be just one smiles string per condition"
   ]
  },
  {
   "cell_type": "markdown",
   "id": "c2071fdb-3994-4429-9f31-a0d7d25e987f",
   "metadata": {},
   "source": [
    "### Check for nans"
   ]
  },
  {
   "cell_type": "code",
   "execution_count": 21,
   "id": "d3316c26",
   "metadata": {},
   "outputs": [
    {
     "name": "stdout",
     "output_type": "stream",
     "text": [
      "[], Categories (0, object): []\n"
     ]
    }
   ],
   "source": [
    "cond = adata_cpa.obs.condition=='nan'\n",
    "nan_conditions = adata_cpi[adata_cpa[cond].obs_names].obs.condition.value_counts().index.values\n",
    "print(nan_conditions)\n",
    "for condition in nan_conditions: \n",
    "    cond = adata_cpa.obs.condition == condition\n",
    "    print(f'\\nFor {condition}, we have {cond.sum()} entries in adata_cpa')"
   ]
  },
  {
   "cell_type": "markdown",
   "id": "07f48f4b-f030-4333-8eda-b53aeac5b737",
   "metadata": {},
   "source": [
    "Reassign nan conditions"
   ]
  },
  {
   "cell_type": "code",
   "execution_count": 22,
   "id": "810b2d20",
   "metadata": {},
   "outputs": [
    {
     "name": "stdout",
     "output_type": "stream",
     "text": [
      "Before reassignment: #nan values in adata_cpa: 0\n",
      "After reassignment: #nan values in adata_cpa: 0\n"
     ]
    },
    {
     "data": {
      "text/plain": "index\nF05_F10_RT_BC_353_Lig_BC_93-0            WP1066\nH02_E09_RT_BC_302_Lig_BC_102-1       Gandotinib\nB04_E09_RT_BC_325_Lig_BC_104-1       BMS-536924\nF05_F10_RT_BC_193_Lig_BC_130           GSK-LSD1\nA01_F10_RT_BC_381_Lig_BC_47             KW-2449\n                                      ...      \nF05_E09_RT_BC_261_Lig_BC_62-0            Aurora\nF10_E09_RT_BC_317_Lig_BC_213-0        Anacardic\nD04_F10_RT_BC_54_Lig_BC_70-1       Temsirolimus\nC10_E09_RT_BC_25_Lig_BC_294-1           ABT-737\nF06_F10_RT_BC_137_Lig_BC_154-1    S-Ruxolitinib\nName: condition, Length: 290888, dtype: object"
     },
     "execution_count": 22,
     "metadata": {},
     "output_type": "execute_result"
    }
   ],
   "source": [
    "cond = adata_cpa.obs.condition=='nan'\n",
    "print(f'Before reassignment: #nan values in adata_cpa: {cond.sum()}')\n",
    "adata_cpa.obs.condition = list(adata_cpa.obs.condition)\n",
    "adata_cpa.obs.loc[cond, 'condition'] = adata_cpi.obs.condition[cond]\n",
    "print(f'After reassignment: #nan values in adata_cpa: {(adata_cpa.obs.condition==\"nan\").sum()}')\n",
    "adata_cpa.obs.condition.astype('category')\n",
    "adata_cpa.obs.condition"
   ]
  },
  {
   "cell_type": "markdown",
   "id": "baf0d075-5d5c-4545-9748-bed0a472693f",
   "metadata": {},
   "source": [
    "Check for specific conditions that have been nans in other trapnell datasets"
   ]
  },
  {
   "cell_type": "code",
   "execution_count": 23,
   "id": "2759d7b6",
   "metadata": {},
   "outputs": [
    {
     "name": "stdout",
     "output_type": "stream",
     "text": [
      "\n",
      "For SRT1720, we have 1512 entries in adata_cpa\n",
      "\n",
      "For Alvespimycin, we have 930 entries in adata_cpa\n",
      "\n",
      "For YM155, we have 394 entries in adata_cpa\n"
     ]
    }
   ],
   "source": [
    "for condition in ['SRT1720', 'Alvespimycin', 'YM155']: \n",
    "    cond = adata_cpa.obs.condition == condition\n",
    "    print(f'\\nFor {condition}, we have {cond.sum()} entries in adata_cpa')"
   ]
  },
  {
   "cell_type": "markdown",
   "id": "000d982d-85ba-4769-9dee-0409eb37178d",
   "metadata": {},
   "source": [
    "Control has an empty string"
   ]
  },
  {
   "cell_type": "code",
   "execution_count": 24,
   "id": "f19c63df",
   "metadata": {},
   "outputs": [
    {
     "data": {
      "text/plain": "['']"
     },
     "execution_count": 24,
     "metadata": {},
     "output_type": "execute_result"
    }
   ],
   "source": [
    "counts = adata_cpi[adata_cpi.obs.condition=='control'].obs.SMILES.value_counts()\n",
    "list(counts.index[counts>0])"
   ]
  },
  {
   "cell_type": "markdown",
   "id": "8c21f5b4-4e49-45f2-96e0-d87edac2f935",
   "metadata": {},
   "source": [
    "### Check double assigned condition"
   ]
  },
  {
   "cell_type": "code",
   "execution_count": 25,
   "id": "3f481a8e-0e72-4433-b994-b34a7696d609",
   "metadata": {},
   "outputs": [
    {
     "name": "stdout",
     "output_type": "stream",
     "text": [
      "ENMD-2076: 2\n"
     ]
    }
   ],
   "source": [
    "for pert, df in adata_cpa.obs.groupby('condition'):\n",
    "    n_smiles = (df.SMILES.value_counts()!=0).sum()\n",
    "    print(f\"{pert}: {n_smiles}\") if n_smiles > 1 else None"
   ]
  },
  {
   "cell_type": "code",
   "execution_count": 26,
   "id": "16bc63cb",
   "metadata": {},
   "outputs": [
    {
     "name": "stdout",
     "output_type": "stream",
     "text": [
      "For ENMD-2076 in adata_cpi, we have this SMILES string: \n",
      "\n",
      "\tCN1CCN(CC1)C1=CC(NC2=NNC(C)=C2)=NC(\\C=C\\C2=CC=CC=C2)=N1 |c:16,18,25,27,29,t:8,12,23|\n",
      "\n",
      "\n",
      "\n",
      "For ENMD-2076 in adata_cpi, we have this SMILES string: \n",
      "\n",
      "\tO[C@H]([C@@H](O)C(O)=O)C(O)=O.CN1CCN(CC1)C1=NC(\\C=C\\C2=CC=CC=C2)=NC(NC2=NNC(C)=C2)=C1 |r,c:24,26,28,36,38,t:17,22,32|\n",
      "\n",
      "\n",
      "\n"
     ]
    }
   ],
   "source": [
    "condition = 'ENMD-2076'\n",
    "cond_cpa = adata_cpa.obs.condition==condition\n",
    "cond_cpi = adata_cpi.obs.condition==condition\n",
    "assert np.where(cond_cpa==cond_cpi, 0, 1).sum()==0\n",
    "counts = adata_cpi[cond_cpi].obs.SMILES.value_counts()\n",
    "[print(f'For {condition} in adata_cpi, we have this SMILES string: \\n\\n\\t{smiles}\\n\\n\\n')for smiles in list(counts.index[counts>0])];"
   ]
  },
  {
   "cell_type": "markdown",
   "id": "9d9e4aac-e20f-4d4c-ae00-935e7f0721d0",
   "metadata": {},
   "source": [
    "Reassign condition two second SMILES from above cell"
   ]
  },
  {
   "cell_type": "code",
   "execution_count": 27,
   "id": "215e6fdb",
   "metadata": {},
   "outputs": [],
   "source": [
    "smiles = list(counts.index[counts>0])[1]\n",
    "adata_cpa.obs.condition = list(adata_cpa.obs.condition)\n",
    "adata_cpa.obs.loc[adata_cpa.obs.SMILES==smiles, 'condition'] = 'ENMD-2076_TartaricAcid'\n",
    "adata_cpa.obs.condition = adata_cpa.obs.condition.astype('category')"
   ]
  },
  {
   "cell_type": "markdown",
   "id": "ec83a754-01eb-4c2c-8767-28c66ae6d1b0",
   "metadata": {},
   "source": [
    "Check that condition align with SMILES\n",
    "\n",
    "If everything is correct there should be no output"
   ]
  },
  {
   "cell_type": "code",
   "execution_count": 28,
   "id": "2625673c",
   "metadata": {},
   "outputs": [],
   "source": [
    "for pert, df in adata_cpa.obs.groupby('condition'):\n",
    "    n_smiles = (df.SMILES.value_counts()!=0).sum()\n",
    "    print(f\"{pert}: {n_smiles}\") if n_smiles > 1 else None"
   ]
  },
  {
   "cell_type": "markdown",
   "id": "fa1c21f0-a9f5-4d7c-adf3-72cd83813f84",
   "metadata": {},
   "source": [
    "## Make SMILES canonical"
   ]
  },
  {
   "cell_type": "code",
   "execution_count": 29,
   "id": "145cb77d-c8e7-4857-b5f6-6432ce5aec5c",
   "metadata": {},
   "outputs": [
    {
     "name": "stdout",
     "output_type": "stream",
     "text": [
      "rdkit version: 2021.09.2\n",
      "\n"
     ]
    }
   ],
   "source": [
    "print(f'rdkit version: {rdkit.__version__}\\n')\n",
    "\n",
    "adata_cpa.obs.SMILES = adata_cpa.obs.SMILES.apply(Chem.CanonSmiles)"
   ]
  },
  {
   "cell_type": "markdown",
   "source": [
    "## Add SMILES for control (=DMSO)"
   ],
   "metadata": {
    "collapsed": false
   }
  },
  {
   "cell_type": "code",
   "source": [
    "adata_cpa.obs[\"SMILES\"] = adata_cpa.obs[\"SMILES\"].cat.rename_categories({\"\": \"CS(C)=O\"})"
   ],
   "metadata": {
    "collapsed": false,
    "pycharm": {
     "name": "#%%\n"
    }
   },
   "execution_count": 30,
   "outputs": []
  },
  {
   "cell_type": "markdown",
   "source": [
    "## Rename weird drug `(+)-JQ1`\n",
    "This had a different name in the old Sciplex dataset, where it was called `JQ1`. We rename it for consistency."
   ],
   "metadata": {
    "collapsed": false,
    "pycharm": {
     "name": "#%% md\n"
    }
   }
  },
  {
   "cell_type": "code",
   "execution_count": 31,
   "outputs": [],
   "source": [
    "adata_cpa.obs[\"condition\"] = adata_cpa.obs[\"condition\"].cat.rename_categories({\"(+)-JQ1\": \"JQ1\"})"
   ],
   "metadata": {
    "collapsed": false,
    "pycharm": {
     "name": "#%%\n"
    }
   }
  },
  {
   "cell_type": "markdown",
   "id": "cf25f7a9-4d72-45e2-836d-dfb45bc891c0",
   "metadata": {},
   "source": [
    "## Create subset `adata_cpa_subset` from `adata_cpa`"
   ]
  },
  {
   "cell_type": "code",
   "execution_count": 33,
   "id": "e9656ff9",
   "metadata": {},
   "outputs": [
    {
     "data": {
      "text/plain": "AnnData object with n_obs × n_vars = 7560 × 5894\n    obs: 'cell_type', 'dose', 'dose_character', 'dose_pattern', 'g1s_score', 'g2m_score', 'pathway', 'pathway_level_1', 'pathway_level_2', 'product_dose', 'product_name', 'proliferation_index', 'replicate', 'size_factor', 'target', 'vehicle', 'batch', 'n_counts', 'dose_val', 'drug_dose_name', 'cov_drug_dose_name', 'condition', 'control', 'cov_drug', 'split', 'split_all', 'ct_dose', 'split1', 'split2', 'split3', 'split4', 'split5', 'split6', 'split7', 'split8', 'split9', 'split10', 'split11', 'split12', 'split13', 'split14', 'split15', 'split16', 'split17', 'split18', 'split19', 'split20', 'split21', 'split22', 'split23', 'split24', 'split25', 'split26', 'split27', 'split28', 'SMILES'\n    var: 'id', 'gene_id', 'in_lincs', 'highly_variable', 'means', 'dispersions', 'dispersions_norm', 'num_cells_expressed-0-0', 'num_cells_expressed-1-0', 'num_cells_expressed-1'\n    uns: 'hvg', 'rank_genes_groups_cov', 'splits'"
     },
     "execution_count": 33,
     "metadata": {},
     "output_type": "execute_result"
    }
   ],
   "source": [
    "adatas = []\n",
    "\n",
    "for perturbation in np.unique(adata_cpa.obs.condition): \n",
    "    tmp = adata_cpa[adata_cpa.obs.condition == perturbation].copy()\n",
    "    tmp = sc.pp.subsample(tmp, n_obs=40, copy=True)\n",
    "    adatas.append(tmp)\n",
    "\n",
    "adata_cpa_subset = adatas[0].concatenate(adatas[1:])\n",
    "adata_cpa_subset.uns = adata_cpa.uns.copy()\n",
    "\n",
    "adata_cpa_subset"
   ]
  },
  {
   "cell_type": "markdown",
   "id": "7bdb55ef-15a9-431f-991b-29e467aa9020",
   "metadata": {},
   "source": [
    "## Safe both adata objects"
   ]
  },
  {
   "cell_type": "code",
   "execution_count": 34,
   "id": "7afe61ee-cb21-4c3d-a1a1-f0a3fd10ecc4",
   "metadata": {},
   "outputs": [
    {
     "ename": "PermissionError",
     "evalue": "[Errno 13] Unable to create file (unable to open file: name = '/storage/groups/ml01/projects/2021_chemicalCPA_leon.hetzel/datasets/trapnell_cpa.h5ad', errno = 13, error message = 'Permission denied', flags = 13, o_flags = 242)",
     "output_type": "error",
     "traceback": [
      "\u001B[0;31m---------------------------------------------------------------------------\u001B[0m",
      "\u001B[0;31mPermissionError\u001B[0m                           Traceback (most recent call last)",
      "\u001B[0;32m/tmp/ipykernel_241691/1789846185.py\u001B[0m in \u001B[0;36m<module>\u001B[0;34m\u001B[0m\n\u001B[0;32m----> 1\u001B[0;31m \u001B[0madata_cpa\u001B[0m\u001B[0;34m.\u001B[0m\u001B[0mwrite\u001B[0m\u001B[0;34m(\u001B[0m\u001B[0madata_out\u001B[0m\u001B[0;34m)\u001B[0m\u001B[0;34m\u001B[0m\u001B[0;34m\u001B[0m\u001B[0m\n\u001B[0m\u001B[1;32m      2\u001B[0m \u001B[0madata_cpa_subset\u001B[0m\u001B[0;34m.\u001B[0m\u001B[0mwrite\u001B[0m\u001B[0;34m(\u001B[0m\u001B[0madata_out_subset\u001B[0m\u001B[0;34m)\u001B[0m\u001B[0;34m\u001B[0m\u001B[0;34m\u001B[0m\u001B[0m\n",
      "\u001B[0;32m~/miniconda3/envs/chemical_CPA/lib/python3.9/site-packages/anndata/_core/anndata.py\u001B[0m in \u001B[0;36mwrite_h5ad\u001B[0;34m(self, filename, compression, compression_opts, force_dense, as_dense)\u001B[0m\n\u001B[1;32m   1903\u001B[0m             \u001B[0mfilename\u001B[0m \u001B[0;34m=\u001B[0m \u001B[0mself\u001B[0m\u001B[0;34m.\u001B[0m\u001B[0mfilename\u001B[0m\u001B[0;34m\u001B[0m\u001B[0;34m\u001B[0m\u001B[0m\n\u001B[1;32m   1904\u001B[0m \u001B[0;34m\u001B[0m\u001B[0m\n\u001B[0;32m-> 1905\u001B[0;31m         _write_h5ad(\n\u001B[0m\u001B[1;32m   1906\u001B[0m             \u001B[0mPath\u001B[0m\u001B[0;34m(\u001B[0m\u001B[0mfilename\u001B[0m\u001B[0;34m)\u001B[0m\u001B[0;34m,\u001B[0m\u001B[0;34m\u001B[0m\u001B[0;34m\u001B[0m\u001B[0m\n\u001B[1;32m   1907\u001B[0m             \u001B[0mself\u001B[0m\u001B[0;34m,\u001B[0m\u001B[0;34m\u001B[0m\u001B[0;34m\u001B[0m\u001B[0m\n",
      "\u001B[0;32m~/miniconda3/envs/chemical_CPA/lib/python3.9/site-packages/anndata/_io/h5ad.py\u001B[0m in \u001B[0;36mwrite_h5ad\u001B[0;34m(filepath, adata, force_dense, as_dense, dataset_kwargs, **kwargs)\u001B[0m\n\u001B[1;32m     91\u001B[0m     \u001B[0;32mif\u001B[0m \u001B[0madata\u001B[0m\u001B[0;34m.\u001B[0m\u001B[0misbacked\u001B[0m\u001B[0;34m:\u001B[0m  \u001B[0;31m# close so that we can reopen below\u001B[0m\u001B[0;34m\u001B[0m\u001B[0;34m\u001B[0m\u001B[0m\n\u001B[1;32m     92\u001B[0m         \u001B[0madata\u001B[0m\u001B[0;34m.\u001B[0m\u001B[0mfile\u001B[0m\u001B[0;34m.\u001B[0m\u001B[0mclose\u001B[0m\u001B[0;34m(\u001B[0m\u001B[0;34m)\u001B[0m\u001B[0;34m\u001B[0m\u001B[0;34m\u001B[0m\u001B[0m\n\u001B[0;32m---> 93\u001B[0;31m     \u001B[0;32mwith\u001B[0m \u001B[0mh5py\u001B[0m\u001B[0;34m.\u001B[0m\u001B[0mFile\u001B[0m\u001B[0;34m(\u001B[0m\u001B[0mfilepath\u001B[0m\u001B[0;34m,\u001B[0m \u001B[0mmode\u001B[0m\u001B[0;34m)\u001B[0m \u001B[0;32mas\u001B[0m \u001B[0mf\u001B[0m\u001B[0;34m:\u001B[0m\u001B[0;34m\u001B[0m\u001B[0;34m\u001B[0m\u001B[0m\n\u001B[0m\u001B[1;32m     94\u001B[0m         \u001B[0;32mif\u001B[0m \u001B[0;34m\"X\"\u001B[0m \u001B[0;32min\u001B[0m \u001B[0mas_dense\u001B[0m \u001B[0;32mand\u001B[0m \u001B[0misinstance\u001B[0m\u001B[0;34m(\u001B[0m\u001B[0madata\u001B[0m\u001B[0;34m.\u001B[0m\u001B[0mX\u001B[0m\u001B[0;34m,\u001B[0m \u001B[0;34m(\u001B[0m\u001B[0msparse\u001B[0m\u001B[0;34m.\u001B[0m\u001B[0mspmatrix\u001B[0m\u001B[0;34m,\u001B[0m \u001B[0mSparseDataset\u001B[0m\u001B[0;34m)\u001B[0m\u001B[0;34m)\u001B[0m\u001B[0;34m:\u001B[0m\u001B[0;34m\u001B[0m\u001B[0;34m\u001B[0m\u001B[0m\n\u001B[1;32m     95\u001B[0m             \u001B[0mwrite_sparse_as_dense\u001B[0m\u001B[0;34m(\u001B[0m\u001B[0mf\u001B[0m\u001B[0;34m,\u001B[0m \u001B[0;34m\"X\"\u001B[0m\u001B[0;34m,\u001B[0m \u001B[0madata\u001B[0m\u001B[0;34m.\u001B[0m\u001B[0mX\u001B[0m\u001B[0;34m,\u001B[0m \u001B[0mdataset_kwargs\u001B[0m\u001B[0;34m=\u001B[0m\u001B[0mdataset_kwargs\u001B[0m\u001B[0;34m)\u001B[0m\u001B[0;34m\u001B[0m\u001B[0;34m\u001B[0m\u001B[0m\n",
      "\u001B[0;32m~/miniconda3/envs/chemical_CPA/lib/python3.9/site-packages/h5py/_hl/files.py\u001B[0m in \u001B[0;36m__init__\u001B[0;34m(self, name, mode, driver, libver, userblock_size, swmr, rdcc_nslots, rdcc_nbytes, rdcc_w0, track_order, fs_strategy, fs_persist, fs_threshold, **kwds)\u001B[0m\n\u001B[1;32m    453\u001B[0m             \u001B[0;32mwith\u001B[0m \u001B[0mphil\u001B[0m\u001B[0;34m:\u001B[0m\u001B[0;34m\u001B[0m\u001B[0;34m\u001B[0m\u001B[0m\n\u001B[1;32m    454\u001B[0m                 \u001B[0mfapl\u001B[0m \u001B[0;34m=\u001B[0m \u001B[0mmake_fapl\u001B[0m\u001B[0;34m(\u001B[0m\u001B[0mdriver\u001B[0m\u001B[0;34m,\u001B[0m \u001B[0mlibver\u001B[0m\u001B[0;34m,\u001B[0m \u001B[0mrdcc_nslots\u001B[0m\u001B[0;34m,\u001B[0m \u001B[0mrdcc_nbytes\u001B[0m\u001B[0;34m,\u001B[0m \u001B[0mrdcc_w0\u001B[0m\u001B[0;34m,\u001B[0m \u001B[0;34m**\u001B[0m\u001B[0mkwds\u001B[0m\u001B[0;34m)\u001B[0m\u001B[0;34m\u001B[0m\u001B[0;34m\u001B[0m\u001B[0m\n\u001B[0;32m--> 455\u001B[0;31m                 fid = make_fid(name, mode, userblock_size,\n\u001B[0m\u001B[1;32m    456\u001B[0m                                fapl, fcpl=make_fcpl(track_order=track_order, fs_strategy=fs_strategy,\n\u001B[1;32m    457\u001B[0m                                fs_persist=fs_persist, fs_threshold=fs_threshold),\n",
      "\u001B[0;32m~/miniconda3/envs/chemical_CPA/lib/python3.9/site-packages/h5py/_hl/files.py\u001B[0m in \u001B[0;36mmake_fid\u001B[0;34m(name, mode, userblock_size, fapl, fcpl, swmr)\u001B[0m\n\u001B[1;32m    203\u001B[0m         \u001B[0mfid\u001B[0m \u001B[0;34m=\u001B[0m \u001B[0mh5f\u001B[0m\u001B[0;34m.\u001B[0m\u001B[0mcreate\u001B[0m\u001B[0;34m(\u001B[0m\u001B[0mname\u001B[0m\u001B[0;34m,\u001B[0m \u001B[0mh5f\u001B[0m\u001B[0;34m.\u001B[0m\u001B[0mACC_EXCL\u001B[0m\u001B[0;34m,\u001B[0m \u001B[0mfapl\u001B[0m\u001B[0;34m=\u001B[0m\u001B[0mfapl\u001B[0m\u001B[0;34m,\u001B[0m \u001B[0mfcpl\u001B[0m\u001B[0;34m=\u001B[0m\u001B[0mfcpl\u001B[0m\u001B[0;34m)\u001B[0m\u001B[0;34m\u001B[0m\u001B[0;34m\u001B[0m\u001B[0m\n\u001B[1;32m    204\u001B[0m     \u001B[0;32melif\u001B[0m \u001B[0mmode\u001B[0m \u001B[0;34m==\u001B[0m \u001B[0;34m'w'\u001B[0m\u001B[0;34m:\u001B[0m\u001B[0;34m\u001B[0m\u001B[0;34m\u001B[0m\u001B[0m\n\u001B[0;32m--> 205\u001B[0;31m         \u001B[0mfid\u001B[0m \u001B[0;34m=\u001B[0m \u001B[0mh5f\u001B[0m\u001B[0;34m.\u001B[0m\u001B[0mcreate\u001B[0m\u001B[0;34m(\u001B[0m\u001B[0mname\u001B[0m\u001B[0;34m,\u001B[0m \u001B[0mh5f\u001B[0m\u001B[0;34m.\u001B[0m\u001B[0mACC_TRUNC\u001B[0m\u001B[0;34m,\u001B[0m \u001B[0mfapl\u001B[0m\u001B[0;34m=\u001B[0m\u001B[0mfapl\u001B[0m\u001B[0;34m,\u001B[0m \u001B[0mfcpl\u001B[0m\u001B[0;34m=\u001B[0m\u001B[0mfcpl\u001B[0m\u001B[0;34m)\u001B[0m\u001B[0;34m\u001B[0m\u001B[0;34m\u001B[0m\u001B[0m\n\u001B[0m\u001B[1;32m    206\u001B[0m     \u001B[0;32melif\u001B[0m \u001B[0mmode\u001B[0m \u001B[0;34m==\u001B[0m \u001B[0;34m'a'\u001B[0m\u001B[0;34m:\u001B[0m\u001B[0;34m\u001B[0m\u001B[0;34m\u001B[0m\u001B[0m\n\u001B[1;32m    207\u001B[0m         \u001B[0;31m# Open in append mode (read/write).\u001B[0m\u001B[0;34m\u001B[0m\u001B[0;34m\u001B[0m\u001B[0m\n",
      "\u001B[0;32mh5py/_objects.pyx\u001B[0m in \u001B[0;36mh5py._objects.with_phil.wrapper\u001B[0;34m()\u001B[0m\n",
      "\u001B[0;32mh5py/_objects.pyx\u001B[0m in \u001B[0;36mh5py._objects.with_phil.wrapper\u001B[0;34m()\u001B[0m\n",
      "\u001B[0;32mh5py/h5f.pyx\u001B[0m in \u001B[0;36mh5py.h5f.create\u001B[0;34m()\u001B[0m\n",
      "\u001B[0;31mPermissionError\u001B[0m: [Errno 13] Unable to create file (unable to open file: name = '/storage/groups/ml01/projects/2021_chemicalCPA_leon.hetzel/datasets/trapnell_cpa.h5ad', errno = 13, error message = 'Permission denied', flags = 13, o_flags = 242)"
     ]
    }
   ],
   "source": [
    "adata_cpa.write(adata_out)\n",
    "adata_cpa_subset.write(adata_out_subset)"
   ]
  },
  {
   "cell_type": "markdown",
   "id": "bfc9546e",
   "metadata": {},
   "source": [
    "### Loading the result for `adata_out`"
   ]
  },
  {
   "cell_type": "code",
   "execution_count": 35,
   "id": "ad5d19e9",
   "metadata": {},
   "outputs": [
    {
     "data": {
      "text/plain": "10.0       2085\n100.0      1927\n1000.0     1845\n10000.0    1663\n0.0          40\nName: dose, dtype: int64"
     },
     "execution_count": 35,
     "metadata": {},
     "output_type": "execute_result"
    }
   ],
   "source": [
    "adata = sc.read(adata_out_subset)\n",
    "adata.obs.dose.value_counts()"
   ]
  },
  {
   "cell_type": "code",
   "execution_count": 36,
   "id": "4c3be54b",
   "metadata": {
    "pycharm": {
     "name": "#%%\n"
    }
   },
   "outputs": [
    {
     "data": {
      "text/plain": "AnnData object with n_obs × n_vars = 7560 × 5894\n    obs: 'cell_type', 'dose', 'dose_character', 'dose_pattern', 'g1s_score', 'g2m_score', 'pathway', 'pathway_level_1', 'pathway_level_2', 'product_dose', 'product_name', 'proliferation_index', 'replicate', 'size_factor', 'target', 'vehicle', 'batch', 'n_counts', 'dose_val', 'drug_dose_name', 'cov_drug_dose_name', 'condition', 'control', 'cov_drug', 'split', 'split_all', 'ct_dose', 'split1', 'split2', 'split3', 'split4', 'split5', 'split6', 'split7', 'split8', 'split9', 'split10', 'split11', 'split12', 'split13', 'split14', 'split15', 'split16', 'split17', 'split18', 'split19', 'split20', 'split21', 'split22', 'split23', 'split24', 'split25', 'split26', 'split27', 'split28', 'SMILES'\n    var: 'id', 'gene_id', 'in_lincs', 'highly_variable', 'means', 'dispersions', 'dispersions_norm', 'num_cells_expressed-0-0', 'num_cells_expressed-1-0', 'num_cells_expressed-1'\n    uns: 'hvg', 'rank_genes_groups_cov', 'splits'"
     },
     "execution_count": 36,
     "metadata": {},
     "output_type": "execute_result"
    }
   ],
   "source": [
    "adata"
   ]
  }
 ],
 "metadata": {
  "interpreter": {
   "hash": "7775ea0a46178fb16f10167b5195178edd1ef843bb85410053db373359e7ce11"
  },
  "kernelspec": {
   "display_name": "Python 3",
   "language": "python",
   "name": "python3"
  },
  "language_info": {
   "codemirror_mode": {
    "name": "ipython",
    "version": 3
   },
   "file_extension": ".py",
   "mimetype": "text/x-python",
   "name": "python",
   "nbconvert_exporter": "python",
   "pygments_lexer": "ipython3",
   "version": "3.8.8"
  }
 },
 "nbformat": 4,
 "nbformat_minor": 5
}